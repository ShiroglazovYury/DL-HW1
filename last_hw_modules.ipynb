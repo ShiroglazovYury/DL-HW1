{
 "cells": [
  {
   "cell_type": "code",
   "execution_count": 1,
   "metadata": {
    "id": "3MeKai5Xj6eX"
   },
   "outputs": [],
   "source": [
    "import numpy as np\n",
    "from scipy.stats import norm\n",
    "import pandas as pd"
   ]
  },
  {
   "cell_type": "markdown",
   "metadata": {
    "id": "wwlFrG-Tj6eY"
   },
   "source": [
    "**Module** is an abstract class which defines fundamental methods necessary for a training a neural network. You do not need to change anything here, just read the comments."
   ]
  },
  {
   "cell_type": "code",
   "execution_count": 2,
   "metadata": {
    "id": "W8BLmtZ3j6eZ"
   },
   "outputs": [],
   "source": [
    "class Module(object):\n",
    "    \"\"\"\n",
    "    Basically, you can think of a module as of a something (black box)\n",
    "    which can process `input` data and produce `ouput` data.\n",
    "    This is like applying a function which is called `forward`:\n",
    "\n",
    "        output = module.forward(input)\n",
    "\n",
    "    The module should be able to perform a backward pass: to differentiate the `forward` function.\n",
    "    More, it should be able to differentiate it if is a part of chain (chain rule).\n",
    "    The latter implies there is a gradient from previous step of a chain rule.\n",
    "\n",
    "        gradInput = module.backward(input, gradOutput)\n",
    "    \"\"\"\n",
    "    def __init__ (self):\n",
    "        self.output = None\n",
    "        self.gradInput = None\n",
    "        self.training = True\n",
    "\n",
    "    def forward(self, input):\n",
    "        \"\"\"\n",
    "        Takes an input object, and computes the corresponding output of the module.\n",
    "        \"\"\"\n",
    "        return self.updateOutput(input)\n",
    "\n",
    "    def backward(self,input, gradOutput):\n",
    "        \"\"\"\n",
    "        Performs a backpropagation step through the module, with respect to the given input.\n",
    "\n",
    "        This includes\n",
    "         - computing a gradient w.r.t. `input` (is needed for further backprop),\n",
    "         - computing a gradient w.r.t. parameters (to update parameters while optimizing).\n",
    "        \"\"\"\n",
    "        self.updateGradInput(input, gradOutput)\n",
    "        self.accGradParameters(input, gradOutput)\n",
    "        return self.gradInput\n",
    "\n",
    "\n",
    "    def updateOutput(self, input):\n",
    "        \"\"\"\n",
    "        Computes the output using the current parameter set of the class and input.\n",
    "        This function returns the result which is stored in the `output` field.\n",
    "\n",
    "        Make sure to both store the data in `output` field and return it.\n",
    "        \"\"\"\n",
    "\n",
    "        # The easiest case:\n",
    "\n",
    "        # self.output = input\n",
    "        # return self.output\n",
    "\n",
    "        pass\n",
    "\n",
    "    def updateGradInput(self, input, gradOutput):\n",
    "        \"\"\"\n",
    "        Computing the gradient of the module with respect to its own input.\n",
    "        This is returned in `gradInput`. Also, the `gradInput` state variable is updated accordingly.\n",
    "\n",
    "        The shape of `gradInput` is always the same as the shape of `input`.\n",
    "\n",
    "        Make sure to both store the gradients in `gradInput` field and return it.\n",
    "        \"\"\"\n",
    "\n",
    "        # The easiest case:\n",
    "\n",
    "        # self.gradInput = gradOutput\n",
    "        # return self.gradInput\n",
    "\n",
    "        pass\n",
    "\n",
    "    def accGradParameters(self, input, gradOutput):\n",
    "        \"\"\"\n",
    "        Computing the gradient of the module with respect to its own parameters.\n",
    "        No need to override if module has no parameters (e.g. ReLU).\n",
    "        \"\"\"\n",
    "        pass\n",
    "\n",
    "    def zeroGradParameters(self):\n",
    "        \"\"\"\n",
    "        Zeroes `gradParams` variable if the module has params.\n",
    "        \"\"\"\n",
    "        pass\n",
    "\n",
    "    def getParameters(self):\n",
    "        \"\"\"\n",
    "        Returns a list with its parameters.\n",
    "        If the module does not have parameters return empty list.\n",
    "        \"\"\"\n",
    "        return []\n",
    "\n",
    "    def getGradParameters(self):\n",
    "        \"\"\"\n",
    "        Returns a list with gradients with respect to its parameters.\n",
    "        If the module does not have parameters return empty list.\n",
    "        \"\"\"\n",
    "        return []\n",
    "\n",
    "    def train(self):\n",
    "        \"\"\"\n",
    "        Sets training mode for the module.\n",
    "        Training and testing behaviour differs for Dropout, BatchNorm.\n",
    "        \"\"\"\n",
    "        self.training = True\n",
    "\n",
    "    def evaluate(self):\n",
    "        \"\"\"\n",
    "        Sets evaluation mode for the module.\n",
    "        Training and testing behaviour differs for Dropout, BatchNorm.\n",
    "        \"\"\"\n",
    "        self.training = False\n",
    "\n",
    "    def __repr__(self):\n",
    "        \"\"\"\n",
    "        Pretty printing. Should be overrided in every module if you want\n",
    "        to have readable description.\n",
    "        \"\"\"\n",
    "        return \"Module\""
   ]
  },
  {
   "cell_type": "markdown",
   "metadata": {
    "id": "mKRkIjT8j6eZ"
   },
   "source": [
    "# Sequential container"
   ]
  },
  {
   "cell_type": "markdown",
   "metadata": {
    "id": "Cb98PPpJj6ea"
   },
   "source": [
    "**Define** a forward and backward pass procedures."
   ]
  },
  {
   "cell_type": "code",
   "execution_count": 3,
   "metadata": {
    "id": "7y2lav4dj6ea"
   },
   "outputs": [],
   "source": [
    "class Sequential(Module):\n",
    "    \"\"\"\n",
    "         This class implements a container, which processes `input` data sequentially.\n",
    "\n",
    "         `input` is processed by each module (layer) in self.modules consecutively.\n",
    "         The resulting array is called `output`.\n",
    "    \"\"\"\n",
    "\n",
    "    def __init__ (self):\n",
    "        super(Sequential, self).__init__() #этот модуль наследует модуль Module\n",
    "        self.modules = []\n",
    "\n",
    "    def add(self, module):\n",
    "        \"\"\"\n",
    "        Adds a module to the container.\n",
    "        \"\"\"\n",
    "        self.modules.append(module)\n",
    "\n",
    "    def updateOutput(self, input):\n",
    "        \"\"\"\n",
    "        Basic workflow of FORWARD PASS:\n",
    "\n",
    "            y_0    = modules[0].forward(input) #ошибка:)\n",
    "            y_1    = modules[1].forward(y_0)\n",
    "            ...\n",
    "            output = module[n-1].forward(y_{n-2})\n",
    "\n",
    "\n",
    "        Just write a little loop.\n",
    "        \"\"\"\n",
    "\n",
    "        self.saved_inputs = {}  \n",
    "        \n",
    "        for i, module in enumerate(self.modules):\n",
    "            self.saved_inputs[i] = input\n",
    "            input = module.updateOutput(input)\n",
    "        self.output = input\n",
    "\n",
    "        \n",
    "        return self.output\n",
    "        \n",
    "\n",
    "    def backward(self, input, gradOutput):\n",
    "        grad = gradOutput\n",
    "    \n",
    "        for i in reversed(range(len(self.modules))):\n",
    "            layer_input = self.saved_inputs[i]\n",
    "            self.modules[i].accGradParameters(layer_input, grad)  # сначала накопим градиенты\n",
    "            grad = self.modules[i].updateGradInput(layer_input, grad)\n",
    "    \n",
    "        self.gradInput = grad\n",
    "        return self.gradInput\n",
    "\n",
    "\n",
    "    def zeroGradParameters(self):\n",
    "        for module in self.modules:\n",
    "            module.zeroGradParameters()\n",
    "\n",
    "    def getParameters(self):\n",
    "        \"\"\"\n",
    "        Should gather all parameters in a list.\n",
    "        \"\"\"\n",
    "        return [x.getParameters() for x in self.modules]\n",
    "\n",
    "    def getGradParameters(self):\n",
    "        \"\"\"\n",
    "        Should gather all gradients w.r.t parameters in a list.\n",
    "        \"\"\"\n",
    "        return [x.getGradParameters() for x in self.modules]\n",
    "\n",
    "    def __repr__(self):\n",
    "        string = \"\".join([str(x) + '\\n' for x in self.modules])\n",
    "        return string\n",
    "\n",
    "    def __getitem__(self,x):\n",
    "        return self.modules.__getitem__(x)\n",
    "\n",
    "    def train(self):\n",
    "        \"\"\"\n",
    "        Propagates training parameter through all modules\n",
    "        \"\"\"\n",
    "        self.training = True\n",
    "        for module in self.modules:\n",
    "            module.train()\n",
    "\n",
    "    def evaluate(self):\n",
    "        \"\"\"\n",
    "        Propagates training parameter through all modules\n",
    "        \"\"\"\n",
    "        self.training = False\n",
    "        for module in self.modules:\n",
    "            module.evaluate()"
   ]
  },
  {
   "cell_type": "markdown",
   "metadata": {
    "id": "zfXdYfO4j6ea"
   },
   "source": [
    "# Layers"
   ]
  },
  {
   "cell_type": "markdown",
   "metadata": {
    "id": "ZuwvBkuNj6ea"
   },
   "source": [
    "## 1 (0.2). Linear transform layer\n",
    "Also known as dense layer, fully-connected layer, FC-layer, InnerProductLayer (in caffe), affine transform\n",
    "- input:   **`batch_size x n_feats1`**\n",
    "- output: **`batch_size x n_feats2`**"
   ]
  },
  {
   "cell_type": "code",
   "execution_count": 4,
   "metadata": {
    "id": "D0uoyqkpj6ea"
   },
   "outputs": [],
   "source": [
    "class Linear(Module):\n",
    "    \"\"\"\n",
    "    A module which applies a linear transformation\n",
    "    A common name is fully-connected layer, InnerProductLayer in caffe.\n",
    "\n",
    "    The module should work with 2D input of shape (n_samples, n_feature).\n",
    "    \"\"\"\n",
    "    def __init__(self, n_in, n_out):\n",
    "        super(Linear, self).__init__()\n",
    "\n",
    "        # This is a nice initialization\n",
    "        stdv = 1.0 / np.sqrt(n_in)\n",
    "        self.W = np.random.uniform(-stdv, stdv, size=(n_out, n_in))\n",
    "        self.b = np.random.uniform(-stdv, stdv, size=n_out)\n",
    "        self.gradW = np.zeros_like(self.W)\n",
    "        self.gradb = np.zeros_like(self.b)\n",
    "\n",
    "    def updateOutput(self, input):\n",
    "        # Your code goes here. ################################################\n",
    "        self.output = input @ self.W.T + self.b\n",
    "        return self.output\n",
    "\n",
    "    def updateGradInput(self, input, gradOutput):\n",
    "        # Your code goes here. ################################################\n",
    "      \n",
    "        self.gradInput = gradOutput @ self.W\n",
    "        return self.gradInput\n",
    "\n",
    "    def accGradParameters(self, input, gradOutput):\n",
    "        # Your code goes here. ################################################\n",
    "        \n",
    "        self.gradW += gradOutput.T @ input;\n",
    "        self.gradb += np.sum(gradOutput, axis=0)\n",
    "        pass\n",
    "\n",
    "    def zeroGradParameters(self):\n",
    "        self.gradW.fill(0)\n",
    "        self.gradb.fill(0)\n",
    "\n",
    "    \n",
    "    def getParameters(self):\n",
    "        return [self.W, self.b]\n",
    "\n",
    "    def getGradParameters(self):\n",
    "        return [self.gradW, self.gradb]\n",
    "\n",
    "    def __repr__(self):\n",
    "        s = self.W.shape\n",
    "        q = 'Linear %d -> %d' %(s[1],s[0])\n",
    "        return q"
   ]
  },
  {
   "cell_type": "markdown",
   "metadata": {
    "id": "tNOnHXZJj6eb"
   },
   "source": [
    "## 2. (0.2) SoftMax\n",
    "- input:   **`batch_size x n_feats`**\n",
    "- output: **`batch_size x n_feats`**\n",
    "\n",
    "$\\text{softmax}(x)_i = \\frac{\\exp x_i} {\\sum_j \\exp x_j}$\n",
    "\n",
    "Recall that $\\text{softmax}(x) == \\text{softmax}(x - \\text{const})$. It makes possible to avoid computing exp() from large argument."
   ]
  },
  {
   "cell_type": "code",
   "execution_count": 5,
   "metadata": {
    "id": "VIValI0hj6eb",
    "tags": []
   },
   "outputs": [],
   "source": [
    "class SoftMax(Module):\n",
    "    def __init__(self):\n",
    "        super(SoftMax, self).__init__()\n",
    "        self.output = None\n",
    "        self.gradInput = None\n",
    "\n",
    "    def updateOutput(self, input):\n",
    "        # start with normalization for numerical stability\n",
    "        self.output = np.subtract(input, input.max(axis=1, keepdims=True))\n",
    "        # Your code goes here. ################################################\n",
    "\n",
    "        exp_x = np.exp(self.output)\n",
    "\n",
    "        self.output = exp_x / np.sum(exp_x, axis=1, keepdims=True)\n",
    "        return self.output\n",
    "\n",
    "\n",
    "    def updateGradInput(self, input, gradOutput):\n",
    "        # Your code goes here. ################################################\n",
    "\n",
    "        self.gradInput = np.zeros_like(input)\n",
    "        for i in range(input.shape[0]):\n",
    "\n",
    "            self.gradInput[i] = self.output[i] * (gradOutput[i] - np.sum(self.output[i] * gradOutput[i]))\n",
    "\n",
    "        return self.gradInput\n",
    "\n",
    "\n",
    "        return self.gradInput\n",
    "\n",
    "    def __repr__(self):\n",
    "        return \"SoftMax\""
   ]
  },
  {
   "cell_type": "markdown",
   "metadata": {
    "id": "Cy3DJjynj6eb"
   },
   "source": [
    "## 3. (0.2) LogSoftMax\n",
    "- input:   **`batch_size x n_feats`**\n",
    "- output: **`batch_size x n_feats`**\n",
    "\n",
    "$\\text{logsoftmax}(x)_i = \\log\\text{softmax}(x)_i = x_i - \\log {\\sum_j \\exp x_j}$\n",
    "\n",
    "The main goal of this layer is to be used in computation of log-likelihood loss."
   ]
  },
  {
   "cell_type": "code",
   "execution_count": 6,
   "metadata": {
    "id": "CQSEQjit_w4O"
   },
   "outputs": [],
   "source": [
    "# class LogSoftMax:\n",
    "#     def init(self):\n",
    "#         pass\n",
    "\n",
    "#     def updateOutput(self, input):\n",
    "#         # Стабилизируем вход (вычтем максимум для численной устойчивости)\n",
    "#         shifted_input = input - np.max(input, axis=1, keepdims=True)\n",
    "\n",
    "#         # log(sum(exp(x))) — знаменатель\n",
    "#         log_sum_exp = np.log(np.sum(np.exp(shifted_input), axis=1, keepdims=True))\n",
    "\n",
    "#         # логарифм softmax\n",
    "#         self.output = shifted_input - log_sum_exp\n",
    "\n",
    "#         # сохраним softmax для backward\n",
    "#         self.softmax = np.exp(self.output)\n",
    "\n",
    "#         return self.output\n",
    "\n",
    "#     def updateGradInput(self, input, gradOutput):\n",
    "#         # Пусть: y = log_softmax(x), gradOutput = dL/dy\n",
    "#         # Тогда: dL/dx = gradOutput - exp(y) * sum(gradOutput)\n",
    "\n",
    "#         sum_grad = np.sum(gradOutput, axis=1, keepdims=True)  # (batch_size, 1)\n",
    "#         self.gradInput = gradOutput - self.softmax * sum_grad\n",
    "\n",
    "#         return self.gradInput\n",
    "\n",
    "#     def repr(self):\n",
    "#         return \"LogSoftMax\"\n",
    "\n",
    "class LogSoftMax(Module):\n",
    "    def init(self):\n",
    "        pass\n",
    "\n",
    "    def updateOutput(self, input):\n",
    "        if input.ndim == 1:\n",
    "            input = input.reshape(1, -1)\n",
    "    \n",
    "        shifted_input = input - np.max(input, axis=1, keepdims=True)\n",
    "        log_sum_exp = np.log(np.sum(np.exp(shifted_input), axis=1, keepdims=True))\n",
    "        self.output = shifted_input - log_sum_exp\n",
    "        self.softmax = np.exp(self.output)\n",
    "        return self.output\n",
    "    \n",
    "\n",
    "    def updateGradInput(self, input, gradOutput):\n",
    "        if gradOutput.ndim == 1:\n",
    "            gradOutput = gradOutput.reshape(1, -1)\n",
    "    \n",
    "        sum_grad = np.sum(gradOutput, axis=1, keepdims=True)\n",
    "        self.gradInput = gradOutput - self.softmax * sum_grad\n",
    "        return self.gradInput\n",
    "        \n",
    "\n",
    "    def getParameters(self):\n",
    "        return []\n",
    "\n",
    "    def getGradParameters(self):\n",
    "        return []\n",
    "\n",
    "    def zeroGradParameters(self):\n",
    "        pass\n",
    "    def evaluate(self):\n",
    "        self.training = False\n",
    "\n",
    "    def train(self):\n",
    "        self.training = True\n",
    "\n",
    "\n",
    "    def repr(self):\n",
    "        return \"LogSoftMax\"\n"
   ]
  },
  {
   "cell_type": "markdown",
   "metadata": {
    "id": "QP5QdmmPj6eb"
   },
   "source": [
    "## 4. (0.3) Batch normalization\n",
    "One of the most significant recent ideas that impacted NNs a lot is [**Batch normalization**](http://arxiv.org/abs/1502.03167). The idea is simple, yet effective: the features should be whitened ($mean = 0$, $std = 1$) all the way through NN. This improves the convergence for deep models letting it train them for days but not weeks. **You are** to implement the first part of the layer: features normalization. The second part (`ChannelwiseScaling` layer) is implemented below.\n",
    "\n",
    "- input:   **`batch_size x n_feats`**\n",
    "- output: **`batch_size x n_feats`**\n",
    "\n",
    "The layer should work as follows. While training (`self.training == True`) it transforms input as $$y = \\frac{x - \\mu}  {\\sqrt{\\sigma + \\epsilon}}$$\n",
    "where $\\mu$ and $\\sigma$ - mean and variance of feature values in **batch** and $\\epsilon$ is just a small number for numericall stability. Also during training, layer should maintain exponential moving average values for mean and variance:\n",
    "```\n",
    "    self.moving_mean = self.moving_mean * alpha + batch_mean * (1 - alpha)\n",
    "    self.moving_variance = self.moving_variance * alpha + batch_variance * (1 - alpha)\n",
    "```\n",
    "During testing (`self.training == False`) the layer normalizes input using moving_mean and moving_variance.\n",
    "\n",
    "Note that decomposition of batch normalization on normalization itself and channelwise scaling here is just a common **implementation** choice. In general \"batch normalization\" always assumes normalization + scaling."
   ]
  },
  {
   "cell_type": "code",
   "execution_count": null,
   "metadata": {
    "id": "aRBprSLf_w4O"
   },
   "outputs": [],
   "source": []
  },
  {
   "cell_type": "code",
   "execution_count": 7,
   "metadata": {
    "id": "fGTTDqVgj6eb",
    "tags": []
   },
   "outputs": [],
   "source": [
    "class BatchNormalization(Module):\n",
    "    EPS = 1e-3\n",
    "    def __init__(self, alpha = 0):\n",
    "        super(BatchNormalization, self).__init__()\n",
    "        self.alpha = alpha\n",
    "        self.moving_mean = None\n",
    "        self.moving_variance = None\n",
    "        self.training = True\n",
    "        self.normalized_input = None\n",
    "\n",
    "    def train(self, flag = True):\n",
    "        self.training = flag\n",
    "    def eval(self,):\n",
    "        self.training = False\n",
    "    def updateOutput(self, input):\n",
    "        # Your code goes here. ################################################\n",
    "        # use self.EPS please\n",
    "\n",
    "        if self.training:\n",
    "            self.batch_mean = np.mean(input, axis=0)\n",
    "            self.batch_var = np.var(input, axis=0)\n",
    "\n",
    "\n",
    "            if self.moving_mean is None:\n",
    "                self.moving_mean = self.batch_mean.copy()\n",
    "                self.moving_variance = self.batch_var.copy()\n",
    "\n",
    "            else:\n",
    "\n",
    "                self.moving_mean = self.alpha * self.moving_mean + (1 - self.alpha) * self.batch_mean\n",
    "                self.moving_variance = self.alpha * self.moving_variance + (1 - self.alpha) * self.batch_var\n",
    "\n",
    "\n",
    "            self.normalized_input = (input - self.batch_mean) / np.sqrt(self.batch_var + self.EPS)\n",
    "        else:\n",
    "            self.normalized_input = (input - self.moving_mean) / np.sqrt(self.moving_variance + self.EPS)\n",
    "\n",
    "\n",
    "        return self.normalized_input\n",
    "\n",
    "\n",
    "    def updateGradInput(self, input, gradOutput):\n",
    "\n",
    "        if not self.training:\n",
    "            self.gradInput = gradOutput / np.sqrt(self.moving_variance + self.EPS)\n",
    "            return self.gradInput\n",
    "\n",
    "        sigma = np.sqrt(self.batch_var + self.EPS)\n",
    "\n",
    "\n",
    "        d_normalized = gradOutput\n",
    "        d_var = np.sum(d_normalized * (input - self.batch_mean) * -0.5 * (self.batch_var + self.EPS)**(-1.5), axis=0)\n",
    "        d_mean = np.sum(d_normalized * -1 / sigma, axis=0) + d_var * np.mean(-2 * (input - self.batch_mean), axis=0)\n",
    "        self.gradInput = (d_normalized / sigma) + (d_var * 2 * (input - self.batch_mean) / input.shape[0]) + (d_mean / input.shape[0])\n",
    "\n",
    "        return self.gradInput\n",
    "\n",
    "\n",
    "    def getParameters(self):\n",
    "        return []\n",
    "    def getGradParameters(self):\n",
    "        return []\n",
    "\n",
    "\n",
    "    def __repr__(self):\n",
    "        return \"BatchNormalization\""
   ]
  },
  {
   "cell_type": "code",
   "execution_count": 8,
   "metadata": {
    "id": "8XUS3Lt-j6eb",
    "tags": []
   },
   "outputs": [],
   "source": [
    "class ChannelwiseScaling(Module):\n",
    "    \"\"\"\n",
    "       Implements linear transform of input y = \\gamma * x + \\beta\n",
    "       where \\gamma, \\beta - learnable vectors of length x.shape[-1]\n",
    "    \"\"\"\n",
    "    def __init__(self, n_out):\n",
    "        super(ChannelwiseScaling, self).__init__()\n",
    "\n",
    "        stdv = 1./np.sqrt(n_out)\n",
    "        self.gamma = np.random.uniform(-stdv, stdv, size=n_out)\n",
    "        self.beta = np.random.uniform(-stdv, stdv, size=n_out)\n",
    "\n",
    "        self.gradGamma = np.zeros_like(self.gamma)\n",
    "        self.gradBeta = np.zeros_like(self.beta)\n",
    "\n",
    "    def updateOutput(self, input):\n",
    "        self.output = input * self.gamma + self.beta\n",
    "        return self.output\n",
    "\n",
    "    def updateGradInput(self, input, gradOutput):\n",
    "        self.gradInput = gradOutput * self.gamma\n",
    "        return self.gradInput\n",
    "\n",
    "    def accGradParameters(self, input, gradOutput):\n",
    "        self.gradGamma += np.sum(gradOutput * input, axis=0)\n",
    "        self.gradBeta  += np.sum(gradOutput, axis=0)\n",
    "\n",
    "    def zeroGradParameters(self):\n",
    "        self.gradGamma.fill(0)\n",
    "        self.gradBeta.fill(0)\n",
    "\n",
    "    def getParameters(self):\n",
    "        return [self.gamma, self.beta]\n",
    "\n",
    "    def getGradParameters(self):\n",
    "        return [self.gradGamma, self.gradBeta]\n",
    "\n",
    "    def __repr__(self):\n",
    "        return \"ChannelwiseScaling\""
   ]
  },
  {
   "cell_type": "markdown",
   "metadata": {
    "id": "vA5zjM3jj6eb"
   },
   "source": [
    "Practical notes. If BatchNormalization is placed after a linear transformation layer (including dense layer, convolutions, channelwise scaling) that implements function like `y = weight * x + bias`, than bias adding become useless and could be omitted since its effect will be discarded while batch mean subtraction. If BatchNormalization (followed by `ChannelwiseScaling`) is placed before a layer that propagates scale (including ReLU, LeakyReLU) followed by any linear transformation layer than parameter `gamma` in `ChannelwiseScaling` could be freezed since it could be absorbed into the linear transformation layer."
   ]
  },
  {
   "cell_type": "markdown",
   "metadata": {
    "id": "Gackeo1cj6eb"
   },
   "source": [
    "## 5. (0.3) Dropout\n",
    "Implement [**dropout**](https://www.cs.toronto.edu/~hinton/absps/JMLRdropout.pdf). The idea and implementation is really simple: just multimply the input by $Bernoulli(p)$ mask. Here $p$ is probability of an element to be zeroed.\n",
    "\n",
    "This has proven to be an effective technique for regularization and preventing the co-adaptation of neurons.\n",
    "\n",
    "While training (`self.training == True`) it should sample a mask on each iteration (for every batch), zero out elements and multiply elements by $1 / (1 - p)$. The latter is needed for keeping mean values of features close to mean values which will be in test mode. When testing this module should implement identity transform i.e. `self.output = input`.\n",
    "\n",
    "- input:   **`batch_size x n_feats`**\n",
    "- output: **`batch_size x n_feats`**"
   ]
  },
  {
   "cell_type": "code",
   "execution_count": 9,
   "metadata": {
    "id": "k5TvaL50CC3r"
   },
   "outputs": [],
   "source": [
    "class Dropout(Module):\n",
    "    def __init__(self, p=0.5):\n",
    "      super(Dropout, self).__init__()\n",
    "      self.p = p\n",
    "      self.training = True\n",
    "      self.mask = None\n",
    "\n",
    "    def updateOutput(self, input):\n",
    "      # Your code goes here. ################################################\n",
    "      if self.training:\n",
    "\n",
    "        self.mask = (np.random.rand(*input.shape) > self.p) / (1 - self.p) # булевая маска\n",
    "        self.output = input * self.mask\n",
    "        return self.output\n",
    "      else:\n",
    "          return input\n",
    "\n",
    "\n",
    "    def updateGradInput(self, input, gradOutput):\n",
    "      # Your code goes here. ################################################\n",
    "        if self.training:\n",
    "            self.gradInput = gradOutput * self.mask\n",
    "            return self.gradInput\n",
    "        else:\n",
    "            return gradOutput\n",
    "\n",
    "\n",
    "    def __repr__(self):\n",
    "        return \"Dropout\""
   ]
  },
  {
   "cell_type": "markdown",
   "metadata": {
    "id": "-WHGIqJFlhz2"
   },
   "source": [
    "# 6. (2.0) Conv2d\n",
    "Implement [**Conv2d**](https://pytorch.org/docs/stable/generated/torch.nn.Conv2d.html). Use only this list of parameters: (in_channels, out_channels, kernel_size, stride, padding, bias, padding_mode) and fix dilation=1 and groups=1."
   ]
  },
  {
   "cell_type": "code",
   "execution_count": 11,
   "metadata": {
    "id": "xLv_JrrrLZb-"
   },
   "outputs": [],
   "source": [
    "# class Conv2d:\n",
    "#     def __init__(self, in_channels, out_channels, kernel_size,\n",
    "#                  stride=1, padding=0, bias=True, padding_mode='zeros'):\n",
    "#         self.in_channels = in_channels\n",
    "#         self.out_channels = out_channels\n",
    "#         self.kernel_size = kernel_size if isinstance(kernel_size, tuple) else (kernel_size, kernel_size)\n",
    "#         self.stride = stride if isinstance(stride, tuple) else (stride, stride)\n",
    "#         self.padding = padding\n",
    "#         self.use_bias = bias\n",
    "#         self.padding_mode = padding_mode\n",
    "#         self.training = True\n",
    "\n",
    "#         self.weight = np.random.randn(out_channels, in_channels, *self.kernel_size).astype(np.float32)\n",
    "#         self.bias = np.random.randn(out_channels).astype(np.float32) if bias else None\n",
    "\n",
    "#     def train(self):\n",
    "#         self.training = True\n",
    "\n",
    "#     def evaluate(self):\n",
    "#         self.training = False\n",
    "\n",
    "#     def _get_padding(self, input_shape):\n",
    "#         if isinstance(self.padding, str) and self.padding == 'same':\n",
    "#             in_height, in_width = input_shape[2], input_shape[3]\n",
    "#             kH, kW = self.kernel_size\n",
    "#             sH, sW = self.stride\n",
    "\n",
    "#             out_height = int(np.ceil(in_height / sH))\n",
    "#             out_width = int(np.ceil(in_width / sW))\n",
    "\n",
    "#             pad_h = max((out_height - 1) * sH + kH - in_height, 0)\n",
    "#             pad_w = max((out_width - 1) * sW + kW - in_width, 0)\n",
    "\n",
    "#             pad_top = pad_h // 2\n",
    "#             pad_bottom = pad_h - pad_top\n",
    "#             pad_left = pad_w // 2\n",
    "#             pad_right = pad_w - pad_left\n",
    "\n",
    "#             return (pad_top, pad_bottom, pad_left, pad_right)\n",
    "#         elif isinstance(self.padding, int):\n",
    "#             return (self.padding, self.padding, self.padding, self.padding)\n",
    "#         elif isinstance(self.padding, tuple):\n",
    "#             if len(self.padding) == 2:\n",
    "#                 return (self.padding[0], self.padding[0], self.padding[1], self.padding[1])\n",
    "#             elif len(self.padding) == 4:\n",
    "#                 return self.padding\n",
    "#         raise ValueError(\"Invalid padding format\")\n",
    "\n",
    "#     def pad_input(self, input, padding):\n",
    "#         pad_top, pad_bottom, pad_left, pad_right = padding\n",
    "\n",
    "#         if self.padding_mode == 'zeros':\n",
    "#             mode = 'constant'\n",
    "#             kwargs = {'constant_values': 0}\n",
    "#         elif self.padding_mode == 'replicate':\n",
    "#             mode = 'edge'\n",
    "#             kwargs = {}\n",
    "#         elif self.padding_mode == 'reflect':\n",
    "#             mode = 'reflect'\n",
    "#             kwargs = {}\n",
    "#         else:\n",
    "#             raise ValueError(f\"Unsupported padding_mode: {self.padding_mode}\")\n",
    "\n",
    "#         pad_width = [\n",
    "#             (0, 0),  # batch\n",
    "#             (0, 0),  # channels\n",
    "#             (pad_top, pad_bottom),\n",
    "#             (pad_left, pad_right)\n",
    "#         ]\n",
    "#         return np.pad(input, pad_width=pad_width, mode=mode, **kwargs)\n",
    "\n",
    "#     def updateOutput(self, input):\n",
    "#         self.input = input\n",
    "#         self.padding_vals = self._get_padding(input.shape)\n",
    "#         input_padded = self.pad_input(input, self.padding_vals)\n",
    "#         self.input_padded = input_padded\n",
    "\n",
    "#         B, _, H_p, W_p = input_padded.shape\n",
    "#         kH, kW = self.kernel_size\n",
    "#         sH, sW = self.stride\n",
    "\n",
    "#         out_H = (H_p - kH) // sH + 1\n",
    "#         out_W = (W_p - kW) // sW + 1\n",
    "\n",
    "#         output = np.zeros((B, self.out_channels, out_H, out_W), dtype=np.float32)\n",
    "\n",
    "#         for b in range(B):\n",
    "#             for oc in range(self.out_channels):\n",
    "#                 for i in range(out_H):\n",
    "#                     for j in range(out_W):\n",
    "#                         h_start = i * sH\n",
    "#                         w_start = j * sW\n",
    "#                         region = input_padded[b, :, h_start:h_start+kH, w_start:w_start+kW]\n",
    "#                         output[b, oc, i, j] = np.sum(region * self.weight[oc])\n",
    "#                         if self.use_bias:\n",
    "#                             output[b, oc, i, j] += self.bias[oc]\n",
    "\n",
    "#         self.output = output\n",
    "#         return output\n",
    "\n",
    "#     def updateGradInput(self, input, gradOutput):\n",
    "#         pad_top, pad_bottom, pad_left, pad_right = self.padding_vals\n",
    "#         B, _, H_in, W_in = input.shape\n",
    "#         _, _, H_out, W_out = gradOutput.shape\n",
    "#         kH, kW = self.kernel_size\n",
    "#         sH, sW = self.stride\n",
    "\n",
    "#         grad_input_padded = np.zeros_like(self.input_padded, dtype=np.float32)\n",
    "\n",
    "#         for b in range(B):\n",
    "#             for oc in range(self.out_channels):\n",
    "#                 for i in range(H_out):\n",
    "#                     for j in range(W_out):\n",
    "#                         h_start = i * sH\n",
    "#                         w_start = j * sW\n",
    "#                         grad = gradOutput[b, oc, i, j]\n",
    "#                         grad_input_padded[b, :, h_start:h_start+kH, w_start:w_start+kW] += self.weight[oc] * grad\n",
    "\n",
    "#         if pad_top > 0 or pad_bottom > 0 or pad_left > 0 or pad_right > 0:\n",
    "#             self.gradInput = grad_input_padded[:, :, pad_top:grad_input_padded.shape[2]-pad_bottom,\n",
    "#                                                pad_left:grad_input_padded.shape[3]-pad_right]\n",
    "#         else:\n",
    "#             self.gradInput = grad_input_padded\n",
    "\n",
    "#         return self.gradInput\n",
    "\n",
    "#     def __repr__(self):\n",
    "#         return \"Conv2d\"\n",
    "\n",
    "\n",
    "class Conv2d:\n",
    "    def __init__(self, in_channels, out_channels, kernel_size,\n",
    "                 stride=1, padding=0, bias=True, padding_mode='zeros'):\n",
    "        self.in_channels = in_channels\n",
    "        self.out_channels = out_channels\n",
    "        self.kernel_size = kernel_size if isinstance(kernel_size, tuple) else (kernel_size, kernel_size)\n",
    "        self.stride = stride if isinstance(stride, tuple) else (stride, stride)\n",
    "        self.padding = padding\n",
    "        self.use_bias = bias\n",
    "        self.padding_mode = padding_mode\n",
    "        self.training = True\n",
    "\n",
    "        self.weight = np.random.randn(out_channels, in_channels, *self.kernel_size).astype(np.float32)\n",
    "        self.bias = np.random.randn(out_channels).astype(np.float32) if bias else None\n",
    "        self.grad_weight = np.zeros_like(self.weight, dtype=np.float32)\n",
    "        if self.use_bias:\n",
    "            self.grad_bias = np.zeros_like(self.bias, dtype=np.float32)\n",
    "\n",
    "\n",
    "    def train(self):\n",
    "        self.training = True\n",
    "\n",
    "    def evaluate(self):\n",
    "        self.training = False\n",
    "\n",
    "    def _get_padding(self, input_shape):\n",
    "        if isinstance(self.padding, str) and self.padding == 'same':\n",
    "            in_height, in_width = input_shape[2], input_shape[3]\n",
    "            kH, kW = self.kernel_size\n",
    "            sH, sW = self.stride\n",
    "\n",
    "            out_height = int(np.ceil(in_height / sH))\n",
    "            out_width = int(np.ceil(in_width / sW))\n",
    "\n",
    "            pad_h = max((out_height - 1) * sH + kH - in_height, 0)\n",
    "            pad_w = max((out_width - 1) * sW + kW - in_width, 0)\n",
    "\n",
    "            pad_top = pad_h // 2\n",
    "            pad_bottom = pad_h - pad_top\n",
    "            pad_left = pad_w // 2\n",
    "            pad_right = pad_w - pad_left\n",
    "\n",
    "            return (pad_top, pad_bottom, pad_left, pad_right)\n",
    "        elif isinstance(self.padding, int):\n",
    "            return (self.padding, self.padding, self.padding, self.padding)\n",
    "        elif isinstance(self.padding, tuple):\n",
    "            if len(self.padding) == 2:\n",
    "                return (self.padding[0], self.padding[0], self.padding[1], self.padding[1])\n",
    "            elif len(self.padding) == 4:\n",
    "                return self.padding\n",
    "        raise ValueError(\"Invalid padding format\")\n",
    "\n",
    "    def pad_input(self, input, padding):\n",
    "        pad_top, pad_bottom, pad_left, pad_right = padding\n",
    "\n",
    "        if self.padding_mode == 'zeros':\n",
    "            mode = 'constant'\n",
    "            kwargs = {'constant_values': 0}\n",
    "        elif self.padding_mode == 'replicate':\n",
    "            mode = 'edge'\n",
    "            kwargs = {}\n",
    "        elif self.padding_mode == 'reflect':\n",
    "            mode = 'reflect'\n",
    "            kwargs = {}\n",
    "        else:\n",
    "            raise ValueError(f\"Unsupported padding_mode: {self.padding_mode}\")\n",
    "\n",
    "        pad_width = [\n",
    "            (0, 0),  # batch\n",
    "            (0, 0),  # channels\n",
    "            (pad_top, pad_bottom),\n",
    "            (pad_left, pad_right)\n",
    "        ]\n",
    "        return np.pad(input, pad_width=pad_width, mode=mode, **kwargs)\n",
    "\n",
    "    def updateOutput(self, input):\n",
    "        self.input = input\n",
    "        self.padding_vals = self._get_padding(input.shape)\n",
    "        input_padded = self.pad_input(input, self.padding_vals)\n",
    "        self.input_padded = input_padded\n",
    "\n",
    "        B, _, H_p, W_p = input_padded.shape\n",
    "        kH, kW = self.kernel_size\n",
    "        sH, sW = self.stride\n",
    "\n",
    "        out_H = (H_p - kH) // sH + 1\n",
    "        out_W = (W_p - kW) // sW + 1\n",
    "\n",
    "        output = np.zeros((B, self.out_channels, out_H, out_W), dtype=np.float32)\n",
    "\n",
    "        for b in range(B):\n",
    "            for oc in range(self.out_channels):\n",
    "                for i in range(out_H):\n",
    "                    for j in range(out_W):\n",
    "                        h_start = i * sH\n",
    "                        w_start = j * sW\n",
    "                        region = input_padded[b, :, h_start:h_start+kH, w_start:w_start+kW]\n",
    "                        output[b, oc, i, j] = np.sum(region * self.weight[oc])\n",
    "                        if self.use_bias:\n",
    "                            output[b, oc, i, j] += self.bias[oc]\n",
    "\n",
    "        self.output = output\n",
    "        return output\n",
    "\n",
    "    def updateGradInput(self, input, gradOutput):\n",
    "        pad_top, pad_bottom, pad_left, pad_right = self.padding_vals\n",
    "        B, _, H_in, W_in = input.shape\n",
    "        _, _, H_out, W_out = gradOutput.shape\n",
    "        kH, kW = self.kernel_size\n",
    "        sH, sW = self.stride\n",
    "\n",
    "        grad_input_padded = np.zeros_like(self.input_padded, dtype=np.float32)\n",
    "\n",
    "        for b in range(B):\n",
    "            for oc in range(self.out_channels):\n",
    "                for i in range(H_out):\n",
    "                    for j in range(W_out):\n",
    "                        h_start = i * sH\n",
    "                        w_start = j * sW\n",
    "                        grad = gradOutput[b, oc, i, j]\n",
    "                        grad_input_padded[b, :, h_start:h_start+kH, w_start:w_start+kW] += self.weight[oc] * grad\n",
    "\n",
    "        if pad_top > 0 or pad_bottom > 0 or pad_left > 0 or pad_right > 0:\n",
    "            self.gradInput = grad_input_padded[:, :, pad_top:grad_input_padded.shape[2]-pad_bottom,\n",
    "                                               pad_left:grad_input_padded.shape[3]-pad_right]\n",
    "        else:\n",
    "            self.gradInput = grad_input_padded\n",
    "\n",
    "        return self.gradInput\n",
    "    def getParameters(self):\n",
    "        if self.use_bias:\n",
    "            return [self.weight, self.bias]\n",
    "        else:\n",
    "            return [self.weight]\n",
    "\n",
    "    def getGradParameters(self):\n",
    "        if self.use_bias:\n",
    "            return [self.grad_weight, self.grad_bias]\n",
    "        else:\n",
    "            return [self.grad_weight]\n",
    "\n",
    "    def zeroGradParameters(self):\n",
    "        self.grad_weight.fill(0)\n",
    "        if self.use_bias:\n",
    "            self.grad_bias.fill(0)\n",
    "\n",
    "    def accGradParameters(self, input, gradOutput):\n",
    "        B, _, H_out, W_out = gradOutput.shape\n",
    "        kH, kW = self.kernel_size\n",
    "        sH, sW = self.stride\n",
    "\n",
    "        self.grad_weight = np.zeros_like(self.weight, dtype=np.float32)\n",
    "        if self.use_bias:\n",
    "            self.grad_bias = np.zeros_like(self.bias, dtype=np.float32)\n",
    "\n",
    "        for b in range(B):\n",
    "            for oc in range(self.out_channels):\n",
    "                for i in range(H_out):\n",
    "                    for j in range(W_out):\n",
    "                        h_start = i * sH\n",
    "                        w_start = j * sW\n",
    "                        region = self.input_padded[b, :, h_start:h_start+kH, w_start:w_start+kW]\n",
    "                        self.grad_weight[oc] += region * gradOutput[b, oc, i, j]\n",
    "                        if self.use_bias:\n",
    "                            self.grad_bias[oc] += gradOutput[b, oc, i, j]\n",
    "\n",
    "\n",
    "    def __repr__(self):\n",
    "        return \"Conv2d\"\n",
    "\n"
   ]
  },
  {
   "cell_type": "markdown",
   "metadata": {
    "id": "updUVZE9qixP"
   },
   "source": [
    "#7 (0.5) Implement [**MaxPool2d**](https://pytorch.org/docs/stable/generated/torch.nn.MaxPool2d.html) and [**AvgPool2d**](https://pytorch.org/docs/stable/generated/torch.nn.AvgPool2d.html). Use only parameters like kernel_size, stride, padding (negative infinity for maxpool and zero for avgpool) and other parameters fixed as in framework."
   ]
  },
  {
   "cell_type": "code",
   "execution_count": 12,
   "metadata": {},
   "outputs": [],
   "source": [
    "class MaxPool2d(Module):\n",
    "    def __init__(self, kernel_size, stride, padding):\n",
    "        super(MaxPool2d, self).__init__()\n",
    "\n",
    "        self.kernel_size = kernel_size\n",
    "        self.stride = stride\n",
    "        self.padding = padding\n",
    "\n",
    "    def updateOutput(self, input):\n",
    "        # Your code goes here. ################################################\n",
    "        self.input = input\n",
    "        B, C, H, W = input.shape\n",
    "        k, s, p = self.kernel_size, self.stride, self.padding\n",
    "\n",
    "        padded = np.pad(input, ((0,0), (0,0), (p,p), (p,p)), mode='constant', constant_values=-np.inf)\n",
    "        H_out = (H + 2*p - k) // s + 1\n",
    "        W_out = (W + 2*p - k) // s + 1\n",
    "\n",
    "        self.output = np.zeros((B, C, H_out, W_out), dtype=input.dtype)\n",
    "        self.max_indices = np.zeros((B, C, H_out, W_out, 2), dtype=int)\n",
    "\n",
    "        for b in range(B):\n",
    "            for c in range(C):\n",
    "                for i in range(H_out):\n",
    "                    for j in range(W_out):\n",
    "                        h_start = i * s\n",
    "                        w_start = j * s\n",
    "                        window = padded[b, c, h_start:h_start+k, w_start:w_start+k]\n",
    "                        max_idx = np.unravel_index(np.argmax(window), window.shape)\n",
    "                        self.output[b, c, i, j] = window[max_idx]\n",
    "                        self.max_indices[b, c, i, j] = (h_start + max_idx[0], w_start + max_idx[1])\n",
    "\n",
    "        return self.output\n",
    "\n",
    "    def updateGradInput(self, input, gradOutput):\n",
    "        # Your code goes here. ################################################\n",
    "        B, C, H, W = input.shape\n",
    "        k, s, p = self.kernel_size, self.stride, self.padding\n",
    "        H_out, W_out = gradOutput.shape[2:]\n",
    "\n",
    "        grad_input_padded = np.zeros((B, C, H + 2*p, W + 2*p), dtype=input.dtype)\n",
    "\n",
    "        for b in range(B):\n",
    "            for c in range(C):\n",
    "                for i in range(H_out):\n",
    "                    for j in range(W_out):\n",
    "                        h_idx, w_idx = self.max_indices[b, c, i, j]\n",
    "                        grad_input_padded[b, c, h_idx, w_idx] += gradOutput[b, c, i, j]\n",
    "\n",
    "        self.gradInput = grad_input_padded[:, :, p:p+H, p:p+W] if p > 0 else grad_input_padded\n",
    "        return self.gradInput\n",
    "\n",
    "    def __repr__(self):\n",
    "        return \"MaxPool2d\"\n",
    "\n",
    "\n",
    "class AvgPool2d(Module):\n",
    "    def __init__(self, kernel_size, stride, padding):\n",
    "        super(AvgPool2d, self).__init__()\n",
    "\n",
    "        self.kernel_size = kernel_size\n",
    "        self.stride = stride\n",
    "        self.padding = padding\n",
    "\n",
    "    def updateOutput(self, input):\n",
    "        # Your code goes here. ################################################\n",
    "        self.input = input\n",
    "        B, C, H, W = input.shape\n",
    "        k, s, p = self.kernel_size, self.stride, self.padding\n",
    "\n",
    "        padded = np.pad(input, ((0,0), (0,0), (p,p), (p,p)), mode='constant', constant_values=0)\n",
    "        H_out = (H + 2*p - k) // s + 1\n",
    "        W_out = (W + 2*p - k) // s + 1\n",
    "\n",
    "        self.output = np.zeros((B, C, H_out, W_out), dtype=input.dtype)\n",
    "\n",
    "        for b in range(B):\n",
    "            for c in range(C):\n",
    "                for i in range(H_out):\n",
    "                    for j in range(W_out):\n",
    "                        h_start = i * s\n",
    "                        w_start = j * s\n",
    "                        window = padded[b, c, h_start:h_start+k, w_start:w_start+k]\n",
    "                        self.output[b, c, i, j] = np.mean(window)\n",
    "\n",
    "        return self.output\n",
    "\n",
    "    def updateGradInput(self, input, gradOutput):\n",
    "        # Your code goes here. ################################################\n",
    "        B, C, H, W = input.shape\n",
    "        k, s, p = self.kernel_size, self.stride, self.padding\n",
    "        H_out, W_out = gradOutput.shape[2:]\n",
    "\n",
    "        grad_input_padded = np.zeros((B, C, H + 2*p, W + 2*p), dtype=input.dtype)\n",
    "\n",
    "        for b in range(B):\n",
    "            for c in range(C):\n",
    "                for i in range(H_out):\n",
    "                    for j in range(W_out):\n",
    "                        h_start = i * s\n",
    "                        w_start = j * s\n",
    "                        grad = gradOutput[b, c, i, j] / (k * k)\n",
    "                        grad_input_padded[b, c, h_start:h_start+k, w_start:w_start+k] += grad\n",
    "\n",
    "        self.gradInput = grad_input_padded[:, :, p:p+H, p:p+W] if p > 0 else grad_input_padded\n",
    "        return self.gradInput\n",
    "\n",
    "    def __repr__(self):\n",
    "        return \"AvgPool2d\""
   ]
  },
  {
   "cell_type": "markdown",
   "metadata": {
    "id": "KTN5R3CwrukV"
   },
   "source": [
    "#8. (0.3) Implement **GlobalMaxPool2d** and **GlobalAvgPool2d**. They do not have testing and parameters are up to you but they must aggregate information within channels. Write test functions for these layers on your own."
   ]
  },
  {
   "cell_type": "code",
   "execution_count": 13,
   "metadata": {
    "id": "5YWOFLYXAfe1"
   },
   "outputs": [],
   "source": [
    "class GlobalMaxPool2d(Module):\n",
    "    def __init__(self, kernel_size, stride, padding):\n",
    "        super(GlobalMaxPool2d, self).__init__()\n",
    "    def updateOutput(self, input):\n",
    "        self.input = input\n",
    "        B, C, H, W = input.shape\n",
    "        self.output = np.max(input, axis=(2, 3), keepdims=True)\n",
    "        self.max_indices = np.argmax(input.reshape(B, C, -1), axis=2)\n",
    "        return self.output\n",
    "\n",
    "    def updateGradInput(self, input, gradOutput):\n",
    "        B, C, H, W = input.shape\n",
    "        self.gradInput = np.zeros_like(input)\n",
    "        flat_grad = self.gradInput.reshape(B, C, -1)\n",
    "        for b in range(B):\n",
    "            for c in range(C):\n",
    "                idx = self.max_indices[b, c]\n",
    "                flat_grad[b, c, idx] = gradOutput[b, c, 0, 0]\n",
    "        self.gradInput = flat_grad.reshape(B, C, H, W)\n",
    "        return self.gradInput\n",
    "\n",
    "    def __repr__(self):\n",
    "        return \"GlobalMaxPool2d\"\n",
    "\n",
    "\n",
    "class GlobalAvgPool2d(Module):\n",
    "    def __init__(self, kernel_size, stride, padding):\n",
    "        super(GlobalAvgPool2d, self).__init__()\n",
    "    def updateOutput(self, input):\n",
    "        self.input = input\n",
    "        B, C, H, W = input.shape\n",
    "        self.output = np.mean(input, axis=(2, 3), keepdims=True)\n",
    "        return self.output\n",
    "\n",
    "    def updateGradInput(self, input, gradOutput):\n",
    "        B, C, H, W = input.shape\n",
    "        grad = gradOutput / (H * W)\n",
    "        self.gradInput = np.ones_like(input) * grad\n",
    "        return self.gradInput\n",
    "\n",
    "    def __repr__(self):\n",
    "        return \"GlobalAvgPool2d\"\n"
   ]
  },
  {
   "cell_type": "markdown",
   "metadata": {
    "id": "cYeBQDBhtViy"
   },
   "source": [
    "#9. (0.2) Implement [**Flatten**](https://pytorch.org/docs/stable/generated/torch.flatten.html)"
   ]
  },
  {
   "cell_type": "code",
   "execution_count": 14,
   "metadata": {
    "id": "mWRiv7GbUeWt"
   },
   "outputs": [],
   "source": [
    "# class Flatten(Module):\n",
    "#     def __init__(self, start_dim=0, end_dim=-1):\n",
    "#         self.start_dim = start_dim\n",
    "#         self.end_dim = end_dim\n",
    "\n",
    "#     def updateOutput(self, input):\n",
    "        \n",
    "#         if self.start_dim < 0:\n",
    "#             elf.start_dim += input.ndim\n",
    "#         if self.end_dim < 0:\n",
    "#             self.end_dim += input.ndim\n",
    "\n",
    "#         shape_before = input.shape[:self.start_dim]\n",
    "#         flatten_dim = int(np.prod(input.shape[self.start_dim:self.end_dim + 1]))\n",
    "#         shape_after = input.shape[self.end_dim + 1:]\n",
    "\n",
    "#         self.output_shape = shape_before + (flatten_dim,) + shape_after\n",
    "#         self.output = input.reshape(self.output_shape)\n",
    "#         return self.output\n",
    "\n",
    "#     def updateGradInput(self, input, gradOutput):\n",
    "#         self.gradInput = gradOutput.reshape(input.shape)\n",
    "#         return self.gradInput\n",
    "\n",
    "#     def __repr__(self):\n",
    "#         return \"Flatten\"\n",
    "\n",
    "class Flatten(Module):\n",
    "    def __init__(self, start_dim=1, end_dim=-1):\n",
    "        super(Flatten, self).__init__()\n",
    "        self.start_dim = start_dim\n",
    "        self.end_dim = end_dim\n",
    "\n",
    "    def updateOutput(self, input):\n",
    "        # Защита от отрицательных индексов\n",
    "        start_dim = self.start_dim if self.start_dim >= 0 else input.ndim + self.start_dim\n",
    "        end_dim = self.end_dim if self.end_dim >= 0 else input.ndim + self.end_dim\n",
    "\n",
    "        shape_before = input.shape[:start_dim]\n",
    "        flatten_dim = int(np.prod(input.shape[start_dim:end_dim + 1]))\n",
    "        shape_after = input.shape[end_dim + 1:]\n",
    "\n",
    "        self.input_shape = input.shape\n",
    "        self.output = input.reshape(shape_before + (flatten_dim,) + shape_after)\n",
    "        return self.output\n",
    "\n",
    "    def updateGradInput(self, input, gradOutput):\n",
    "        self.gradInput = gradOutput.reshape(self.input_shape)\n",
    "        return self.gradInput\n",
    "\n",
    "    def getParameters(self):\n",
    "        return []\n",
    "\n",
    "    def getGradParameters(self):\n",
    "        return []\n",
    "\n",
    "    def zeroGradParameters(self):\n",
    "        pass\n",
    "\n",
    "    def train(self): pass\n",
    "    def evaluate(self): pass\n",
    "\n",
    "    def __repr__(self):\n",
    "        return f\"Flatten\"\n"
   ]
  },
  {
   "cell_type": "markdown",
   "metadata": {
    "id": "o36vPHSSj6eb"
   },
   "source": [
    "# Activation functions"
   ]
  },
  {
   "cell_type": "markdown",
   "metadata": {
    "id": "l_pryRQIj6ec"
   },
   "source": [
    "Here's the complete example for the **Rectified Linear Unit** non-linearity (aka **ReLU**):"
   ]
  },
  {
   "cell_type": "code",
   "execution_count": 15,
   "metadata": {
    "id": "sgm8bXjKj6ec"
   },
   "outputs": [],
   "source": [
    "class ReLU(Module):\n",
    "    def __init__(self):\n",
    "         super(ReLU, self).__init__()\n",
    "\n",
    "    def updateOutput(self, input):\n",
    "        self.output = np.maximum(input, 0)\n",
    "        return self.output\n",
    "\n",
    "    def updateGradInput(self, input, gradOutput):\n",
    "        self.gradInput = np.multiply(gradOutput , input > 0)\n",
    "        return self.gradInput\n",
    "\n",
    "    def __repr__(self):\n",
    "        return \"ReLU\""
   ]
  },
  {
   "cell_type": "markdown",
   "metadata": {
    "id": "yB0UHGagj6ec"
   },
   "source": [
    "## 10. (0.1) Leaky ReLU\n",
    "Implement [**Leaky Rectified Linear Unit**](http://en.wikipedia.org/wiki%2FRectifier_%28neural_networks%29%23Leaky_ReLUs). Expriment with slope."
   ]
  },
  {
   "cell_type": "code",
   "execution_count": 16,
   "metadata": {
    "id": "agwfkwO0j6ec"
   },
   "outputs": [],
   "source": [
    "class LeakyReLU(Module):\n",
    "    def __init__(self, slope = 0.03):\n",
    "        super(LeakyReLU, self).__init__()\n",
    "\n",
    "        self.slope = slope\n",
    "\n",
    "    def updateOutput(self, input):\n",
    "        # Your code goes here. ################################################\n",
    "        self.output = np.where(input > 0, input, self.slope * input)\n",
    "        return self.output\n",
    "\n",
    "\n",
    "    def updateGradInput(self, input, gradOutput):\n",
    "        # Your code goes here. ################################################\n",
    "        grad = np.where(input > 0, 1.0, self.slope)\n",
    "        self.gradInput = grad * gradOutput\n",
    "        return self.gradInput\n",
    "\n",
    "    def __repr__(self):\n",
    "        return \"LeakyReLU\""
   ]
  },
  {
   "cell_type": "code",
   "execution_count": null,
   "metadata": {
    "id": "0YikhY7YWGMo"
   },
   "outputs": [],
   "source": []
  },
  {
   "cell_type": "markdown",
   "metadata": {
    "id": "t-STyecvj6ec"
   },
   "source": [
    "## 11. (0.1) ELU\n",
    "Implement [**Exponential Linear Units**](http://arxiv.org/abs/1511.07289) activations."
   ]
  },
  {
   "cell_type": "code",
   "execution_count": 17,
   "metadata": {
    "id": "0H_zN-k8XlGK"
   },
   "outputs": [],
   "source": [
    "class ELU(Module):\n",
    "    def __init__(self, alpha=1.0):\n",
    "      super(ELU, self).__init__()\n",
    "      self.alpha = alpha\n",
    "\n",
    "    def updateOutput(self, input):\n",
    "        self.output = np.where(input > 0, input, self.alpha * (np.exp(input) - 1))\n",
    "        return self.output\n",
    "\n",
    "    def updateGradInput(self, input, gradOutput):\n",
    "        self.gradInput = gradOutput * np.where(input > 0, 1, self.output + self.alpha)\n",
    "        return self.gradInput\n",
    "\n",
    "    def __repr__(self):\n",
    "        return f\"ELU\""
   ]
  },
  {
   "cell_type": "code",
   "execution_count": null,
   "metadata": {
    "id": "63HF0HQkXlJW"
   },
   "outputs": [],
   "source": []
  },
  {
   "cell_type": "code",
   "execution_count": null,
   "metadata": {
    "id": "EFOVVHaQXlMr"
   },
   "outputs": [],
   "source": []
  },
  {
   "cell_type": "markdown",
   "metadata": {
    "id": "Gn3C7KTqj6ec"
   },
   "source": [
    "## 12. (0.1) SoftPlus\n",
    "Implement [**SoftPlus**](https://en.wikipedia.org/wiki%2FRectifier_%28neural_networks%29) activations. Look, how they look a lot like ReLU."
   ]
  },
  {
   "cell_type": "code",
   "execution_count": 18,
   "metadata": {
    "id": "nfkGOZdfYOYP"
   },
   "outputs": [],
   "source": [
    "class SoftPlus(Module):\n",
    "    def __init__(self):\n",
    "        super(SoftPlus, self).__init__()\n",
    "\n",
    "    def updateOutput(self, input):\n",
    "\n",
    "        self.output = np.log(1 + np.exp(input))\n",
    "        return self.output\n",
    "\n",
    "    def updateGradInput(self, input, gradOutput):\n",
    "\n",
    "        sigmoid = 1 / (1 + np.exp(-input))\n",
    "        self.gradInput = gradOutput * sigmoid\n",
    "        return self.gradInput\n",
    "\n",
    "    def __repr__(self):\n",
    "        return \"SoftPlus\""
   ]
  },
  {
   "cell_type": "code",
   "execution_count": null,
   "metadata": {
    "id": "LGUyRhEuYObm"
   },
   "outputs": [],
   "source": []
  },
  {
   "cell_type": "code",
   "execution_count": null,
   "metadata": {
    "id": "StGCGk0ZYOfJ"
   },
   "outputs": [],
   "source": []
  },
  {
   "cell_type": "markdown",
   "metadata": {
    "id": "kw3PeZjOuo0e"
   },
   "source": [
    "# 13  (0.2) Gelu\n",
    "Implement [**Gelu**](https://pytorch.org/docs/stable/generated/torch.nn.GELU.html) activations."
   ]
  },
  {
   "cell_type": "code",
   "execution_count": 19,
   "metadata": {
    "id": "Ir1Qkav4ZAm8"
   },
   "outputs": [],
   "source": [
    "class Gelu(Module):  \n",
    "    def __init__(self):\n",
    "        super(Gelu, self).__init__()\n",
    "\n",
    "    def updateOutput(self, input):\n",
    "        # Your code goes here. ################################################\n",
    "        self.output = (input * norm.cdf(input)).astype(np.float32)\n",
    "        return self.output\n",
    "\n",
    "    def updateGradInput(self, input, gradOutput):\n",
    "        # Your code goes here. ################################################\n",
    "        self.gradInput = (gradOutput * (norm.cdf(input) + input * norm.pdf(input))).astype(np.float32)\n",
    "        return self.gradInput\n",
    "\n",
    "    def __repr__(self):\n",
    "        return \"Gelu\""
   ]
  },
  {
   "cell_type": "markdown",
   "metadata": {
    "id": "55p7UvPAj6ec"
   },
   "source": [
    "# Criterions"
   ]
  },
  {
   "cell_type": "markdown",
   "metadata": {
    "id": "5NFaxZaqj6ec"
   },
   "source": [
    "Criterions are used to score the models answers."
   ]
  },
  {
   "cell_type": "code",
   "execution_count": 20,
   "metadata": {
    "id": "XGu45A8qj6ec"
   },
   "outputs": [],
   "source": [
    "class Criterion(object):\n",
    "    def __init__ (self):\n",
    "        self.output = None\n",
    "        self.gradInput = None\n",
    "\n",
    "    def forward(self, input, target):\n",
    "        \"\"\"\n",
    "            Given an input and a target, compute the loss function\n",
    "            associated to the criterion and return the result.\n",
    "\n",
    "            For consistency this function should not be overrided,\n",
    "            all the code goes in `updateOutput`.\n",
    "        \"\"\"\n",
    "        return self.updateOutput(input, target)\n",
    "\n",
    "    def backward(self, input, target):\n",
    "        \"\"\"\n",
    "            Given an input and a target, compute the gradients of the loss function\n",
    "            associated to the criterion and return the result.\n",
    "\n",
    "            For consistency this function should not be overrided,\n",
    "            all the code goes in `updateGradInput`.\n",
    "        \"\"\"\n",
    "        return self.updateGradInput(input, target)\n",
    "\n",
    "    def updateOutput(self, input, target):\n",
    "        \"\"\"\n",
    "        Function to override.\n",
    "        \"\"\"\n",
    "        return self.output\n",
    "\n",
    "    def updateGradInput(self, input, target):\n",
    "        \"\"\"\n",
    "        Function to override.\n",
    "        \"\"\"\n",
    "        return self.gradInput\n",
    "\n",
    "    def __repr__(self):\n",
    "        \"\"\"\n",
    "        Pretty printing. Should be overrided in every module if you want\n",
    "        to have readable description.\n",
    "        \"\"\"\n",
    "        return \"Criterion\""
   ]
  },
  {
   "cell_type": "markdown",
   "metadata": {
    "id": "WuU26xkpj6ec"
   },
   "source": [
    "The **MSECriterion**, which is basic L2 norm usually used for regression, is implemented here for you.\n",
    "- input:   **`batch_size x n_feats`**\n",
    "- target: **`batch_size x n_feats`**\n",
    "- output: **scalar**"
   ]
  },
  {
   "cell_type": "code",
   "execution_count": 21,
   "metadata": {
    "id": "-i3VNuHhj6ec"
   },
   "outputs": [],
   "source": [
    "class MSECriterion(Criterion):\n",
    "    def __init__(self):\n",
    "        super(MSECriterion, self).__init__()\n",
    "\n",
    "    def updateOutput(self, input, target):\n",
    "        self.output = np.sum(np.power(input - target,2)) / input.shape[0]\n",
    "        return self.output\n",
    "\n",
    "    def updateGradInput(self, input, target):\n",
    "        self.gradInput  = (input - target) * 2 / input.shape[0]\n",
    "        return self.gradInput\n",
    "\n",
    "    def __repr__(self):\n",
    "        return \"MSECriterion\""
   ]
  },
  {
   "cell_type": "code",
   "execution_count": null,
   "metadata": {},
   "outputs": [],
   "source": []
  },
  {
   "cell_type": "markdown",
   "metadata": {
    "id": "x8LKLWNVj6ec"
   },
   "source": [
    "## 14. (0.2) Negative LogLikelihood criterion (numerically unstable)\n",
    "You task is to implement the **ClassNLLCriterion**. It should implement [multiclass log loss](http://scikit-learn.org/stable/modules/model_evaluation.html#log-loss). Nevertheless there is a sum over `y` (target) in that formula,\n",
    "remember that targets are one-hot encoded. This fact simplifies the computations a lot. Note, that criterions are the only places, where you divide by batch size. Also there is a small hack with adding small number to probabilities to avoid computing log(0).\n",
    "- input:   **`batch_size x n_feats`** - probabilities\n",
    "- target: **`batch_size x n_feats`** - one-hot representation of ground truth\n",
    "- output: **scalar**\n",
    "\n"
   ]
  },
  {
   "cell_type": "code",
   "execution_count": 22,
   "metadata": {
    "id": "l29PCvx6ZpG5"
   },
   "outputs": [],
   "source": [
    "class ClassNLLCriterionUnstable(Criterion):\n",
    "    EPS = 1e-15\n",
    "\n",
    "    def __init__(self):\n",
    "        super(ClassNLLCriterionUnstable, self).__init__()\n",
    "    def updateOutput(self, input, target):\n",
    "\n",
    "        input_clamp = np.clip(input, self.EPS, 1 - self.EPS)\n",
    "        # Your code goes here. ################################################\n",
    "        log_probs = np.log(input_clamp)\n",
    "        self.output = -np.sum(target * log_probs) / input.shape[0]\n",
    "        return self.output\n",
    "\n",
    "    def updateGradInput(self, input, target):\n",
    "        # Avoid numerical errors by clamping input to a small value epsilon\n",
    "        input_clamp = np.clip(input, self.EPS, 1 - self.EPS)\n",
    "        # Your code goes here. ################################################\n",
    "        input_clamp = np.clip(input, self.EPS, 1 - self.EPS)\n",
    "        self.gradInput = -target / input_clamp / input.shape[0]\n",
    "        return self.gradInput\n",
    "\n",
    "    def __repr__(self):\n",
    "        return \"ClassNLLCriterionUnstable\"\n"
   ]
  },
  {
   "cell_type": "code",
   "execution_count": null,
   "metadata": {
    "id": "gT99vC4KZpKa"
   },
   "outputs": [],
   "source": []
  },
  {
   "cell_type": "markdown",
   "metadata": {
    "id": "uHr_JbU5j6ec"
   },
   "source": [
    "## 15. (0.3) Negative LogLikelihood criterion (numerically stable)\n",
    "- input:   **`batch_size x n_feats`** - log probabilities\n",
    "- target: **`batch_size x n_feats`** - one-hot representation of ground truth\n",
    "- output: **scalar**\n",
    "\n",
    "Task is similar to the previous one, but now the criterion input is the output of log-softmax layer. This decomposition allows us to avoid problems with computation of forward and backward of log()."
   ]
  },
  {
   "cell_type": "code",
   "execution_count": 23,
   "metadata": {
    "id": "v7N8bVP9j6ec"
   },
   "outputs": [],
   "source": [
    "class ClassNLLCriterion(Criterion):\n",
    "    def __init__(self):\n",
    "        super(ClassNLLCriterion, self).__init__()\n",
    "\n",
    "    def updateOutput(self, input, target):\n",
    "        self.output = -np.sum(target * input) / input.shape[0]\n",
    "        return self.output\n",
    "\n",
    "    def updateGradInput(self, input, target):\n",
    "        self.gradInput = -target / input.shape[0]\n",
    "        return self.gradInput\n",
    "\n",
    "    def __repr__(self):\n",
    "        return \"ClassNLLCriterion\""
   ]
  },
  {
   "cell_type": "code",
   "execution_count": null,
   "metadata": {
    "id": "l4rIeFZPZp5y"
   },
   "outputs": [],
   "source": []
  },
  {
   "cell_type": "code",
   "execution_count": null,
   "metadata": {
    "id": "z21P2OroZp82"
   },
   "outputs": [],
   "source": []
  },
  {
   "cell_type": "code",
   "execution_count": null,
   "metadata": {
    "collapsed": true,
    "id": "E-ZnhKxaj6ed",
    "jupyter": {
     "outputs_hidden": true
    }
   },
   "outputs": [],
   "source": []
  },
  {
   "cell_type": "markdown",
   "metadata": {
    "id": "TC2Bf1PP2Ios"
   },
   "source": [
    "1-я часть задания: реализация слоев, лосей и функций активации - 5 баллов. \\\\\n",
    "2-я часть задания: реализация моделей на своих классах. Что должно быть:\n",
    "  1. Выберите оптимизатор и реализуйте его, чтоб он работал с вами классами. - 1 балл.\n",
    "  2. Модель для задачи мультирегрессии на выбраных вами данных. Использовать FCNN, dropout, batchnorm, MSE. Пробуйте различные фукнции активации. Для первой модели попробуйте большую, среднюю и маленькую модель. - 1 балл.\n",
    "  3. Модель для задачи мультиклассификации на MNIST. Использовать свёртки, макспулы, флэттэны, софтмаксы - 1 балла.\n",
    "  4. Автоэнкодер для выбранных вами данных. Должен быть на свёртках и полносвязных слоях, дропаутах, батчнормах и тд. - 2 балла. \\\\\n",
    "\n",
    "Дополнительно в оценке каждой модели будет учитываться:\n",
    "1. Наличие правильно выбранной метрики и лосс функции.\n",
    "2. Отрисовка графиков лосей и метрик на трейне-валидации. Проверка качества модели на тесте.\n",
    "3. Наличие шедулера для lr.\n",
    "4. Наличие вормапа.\n",
    "5. Наличие механизма ранней остановки и сохранение лучшей модели.\n",
    "6. Свитч лося (метрики) и оптимайзера."
   ]
  },
  {
   "cell_type": "markdown",
   "metadata": {},
   "source": [
    "## Optimizer"
   ]
  },
  {
   "cell_type": "code",
   "execution_count": 24,
   "metadata": {},
   "outputs": [],
   "source": [
    "class Adam:\n",
    "    def __init__(self,parameters, gradParameters, lr=0.001, betas=(0.9, 0.999), eps=1e-8):\n",
    "        self.parameters = parameters\n",
    "        self.gradParameters = gradParameters\n",
    "        \n",
    "        self.lr = lr\n",
    "        self.beta1 = betas[0]\n",
    "        self.beta2 = betas[1]\n",
    "        self.eps = eps\n",
    "        self.t = 0  \n",
    "        self.m = None\n",
    "        self.v = None\n",
    "\n",
    "    def step(self):\n",
    "        if self.m is None:\n",
    "            self.m = [\n",
    "                [np.zeros_like(p) for p in group]\n",
    "                for group in self.parameters\n",
    "            ]\n",
    "            self.v = [\n",
    "                [np.zeros_like(p) for p in group]\n",
    "                for group in self.parameters\n",
    "            ]\n",
    "\n",
    "        self.t += 1\n",
    "        for param_group, grad_group, m_group, v_group in zip(\n",
    "            self.parameters, self.gradParameters, self.m, self.v\n",
    "        ):\n",
    "            for p, g, m, v in zip(param_group, grad_group, m_group, v_group):\n",
    "                m[...] = self.beta1 * m + (1 - self.beta1) * g\n",
    "                v[...] = self.beta2 * v + (1 - self.beta2) * (g ** 2)\n",
    "\n",
    "                m_hat = m / (1 - self.beta1 ** self.t)\n",
    "                v_hat = v / (1 - self.beta2 ** self.t)\n",
    "\n",
    "                p[...] -= self.lr * m_hat / (np.sqrt(v_hat) + self.eps)\n"
   ]
  },
  {
   "cell_type": "markdown",
   "metadata": {},
   "source": [
    "## Data"
   ]
  },
  {
   "cell_type": "code",
   "execution_count": 25,
   "metadata": {},
   "outputs": [
    {
     "name": "stdout",
     "output_type": "stream",
     "text": [
      "X.shape: (5000, 30)\n",
      "y.shape: (5000, 3)\n"
     ]
    }
   ],
   "source": [
    "from sklearn.datasets import make_regression\n",
    "from sklearn.model_selection import train_test_split\n",
    "\n",
    "X, y = make_regression(\n",
    "    n_samples=5000,     \n",
    "    n_features=30,       \n",
    "    n_targets=3,        \n",
    "    noise=0.4,          \n",
    ")\n",
    "\n",
    "print(\"X.shape:\", X.shape)\n",
    "print(\"y.shape:\", y.shape)  \n",
    "\n",
    "x_train, x_test, y_train, y_test = train_test_split(X, y, test_size=0.2, random_state=42)\n"
   ]
  },
  {
   "cell_type": "code",
   "execution_count": 26,
   "metadata": {},
   "outputs": [],
   "source": [
    "from sklearn.preprocessing import MinMaxScaler\n",
    "normalizer = MinMaxScaler()\n",
    "x_train = normalizer.fit_transform(x_train)\n",
    "x_test = normalizer.transform(x_test)"
   ]
  },
  {
   "cell_type": "markdown",
   "metadata": {},
   "source": [
    "## Training & Test loop"
   ]
  },
  {
   "cell_type": "code",
   "execution_count": 27,
   "metadata": {},
   "outputs": [],
   "source": [
    "def train_loop(model, crit, optimizer, X, y, batch_size=100):\n",
    "    model.train()\n",
    "    perm = np.random.permutation(len(X))\n",
    "    X_shuffled = X[perm]\n",
    "    y_shuffled = y[perm]\n",
    "    batch_loss = []\n",
    "\n",
    "    for i in range(0, len(X), batch_size):\n",
    "        x_batch = X_shuffled[i:i+batch_size]\n",
    "        y_batch = y_shuffled[i:i+batch_size]\n",
    "        \n",
    "        yp = model.forward(x_batch)\n",
    "    \n",
    "        loss = crit.forward(yp, y_batch)\n",
    "        grad = crit.backward(yp, y_batch)\n",
    "        model.backward(x_batch, grad)\n",
    "        \n",
    "        optimizer.step()\n",
    "        \n",
    "        \n",
    "        model.zeroGradParameters()\n",
    "\n",
    "        batch_loss.append(loss)\n",
    "\n",
    "    return np.mean(batch_loss)"
   ]
  },
  {
   "cell_type": "code",
   "execution_count": 28,
   "metadata": {},
   "outputs": [],
   "source": [
    "def test_loop(model, crit, X, y, batch_size=100):\n",
    "    model.eval()\n",
    "    perm = np.random.permutation(len(X))\n",
    "    X_shuffled = X[perm]\n",
    "    y_shuffled = y[perm]\n",
    "    batch_loss = []\n",
    "    \n",
    "    for i in range(0, len(X), batch_size):\n",
    "        x_batch = X_shuffled[i:i+batch_size]\n",
    "        y_batch = y_shuffled[i:i+batch_size]\n",
    "        \n",
    "\n",
    "        \n",
    "        yp = model.forward(x_batch)\n",
    "        \n",
    "        loss = crit.forward(yp, y_batch)\n",
    "        batch_loss.append(loss)\n",
    "        \n",
    "        \n",
    "    return np.array(batch_loss).mean()"
   ]
  },
  {
   "cell_type": "markdown",
   "metadata": {},
   "source": [
    "## MODELS"
   ]
  },
  {
   "cell_type": "markdown",
   "metadata": {},
   "source": [
    "### SmallModel"
   ]
  },
  {
   "cell_type": "code",
   "execution_count": 29,
   "metadata": {},
   "outputs": [],
   "source": [
    "class SmallModel(Module):\n",
    "    def __init__(self):\n",
    "        super(SmallModel, self).__init__()\n",
    "        self.model = Sequential()\n",
    "        self.model.add(Linear(30, 120))\n",
    "        self.model.add(Dropout(0.5))\n",
    "        self.model.add(LeakyReLU())\n",
    "        self.model.add(Linear(120, 3))\n",
    "        \n",
    "    def forward(self, input):\n",
    "        return self.model.forward(input)\n",
    "        \n",
    "    def backward(self, input, grad):\n",
    "        return self.model.backward(input, grad)\n",
    "        \n",
    "    def zeroGradParameters(self):\n",
    "        self.model.zeroGradParameters()\n",
    "\n",
    "    def getParameters(self):\n",
    "        return self.model.getParameters()\n",
    "\n",
    "    def getGradParameters(self):\n",
    "        return self.model.getGradParameters()\n",
    "\n",
    "    def train(self):\n",
    "        self.model.train()\n",
    "\n",
    "    def eval(self):\n",
    "        self.model.evaluate()"
   ]
  },
  {
   "cell_type": "code",
   "execution_count": 30,
   "metadata": {},
   "outputs": [
    {
     "name": "stdout",
     "output_type": "stream",
     "text": [
      "Epoch 0, TRAIN Loss: 109407.2957\n",
      "Epoch 0, TEST Loss: 109657.2243\n",
      "$$$$$$$$$$$$$$$$$$$$$$$$$$$$$$$$$$$$$$$$\n",
      "Epoch 20, TRAIN Loss: 77108.8569\n",
      "Epoch 20, TEST Loss: 74503.2664\n",
      "$$$$$$$$$$$$$$$$$$$$$$$$$$$$$$$$$$$$$$$$\n",
      "Epoch 40, TRAIN Loss: 44092.7884\n",
      "Epoch 40, TEST Loss: 40578.7199\n",
      "$$$$$$$$$$$$$$$$$$$$$$$$$$$$$$$$$$$$$$$$\n",
      "Epoch 60, TRAIN Loss: 36919.6795\n",
      "Epoch 60, TEST Loss: 33691.5743\n",
      "$$$$$$$$$$$$$$$$$$$$$$$$$$$$$$$$$$$$$$$$\n",
      "Epoch 80, TRAIN Loss: 33326.3345\n",
      "Epoch 80, TEST Loss: 30112.7894\n",
      "$$$$$$$$$$$$$$$$$$$$$$$$$$$$$$$$$$$$$$$$\n",
      "Epoch 100, TRAIN Loss: 29309.6803\n",
      "Epoch 100, TEST Loss: 25915.6141\n",
      "$$$$$$$$$$$$$$$$$$$$$$$$$$$$$$$$$$$$$$$$\n",
      "Epoch 120, TRAIN Loss: 25157.5003\n",
      "Epoch 120, TEST Loss: 21535.8924\n",
      "$$$$$$$$$$$$$$$$$$$$$$$$$$$$$$$$$$$$$$$$\n",
      "Epoch 140, TRAIN Loss: 20888.8884\n",
      "Epoch 140, TEST Loss: 17205.4095\n",
      "$$$$$$$$$$$$$$$$$$$$$$$$$$$$$$$$$$$$$$$$\n",
      "Epoch 160, TRAIN Loss: 17065.6758\n",
      "Epoch 160, TEST Loss: 13364.5209\n",
      "$$$$$$$$$$$$$$$$$$$$$$$$$$$$$$$$$$$$$$$$\n",
      "Epoch 180, TRAIN Loss: 14745.9230\n",
      "Epoch 180, TEST Loss: 10403.1588\n",
      "$$$$$$$$$$$$$$$$$$$$$$$$$$$$$$$$$$$$$$$$\n",
      "Epoch 200, TRAIN Loss: 12423.3522\n",
      "Epoch 200, TEST Loss: 8023.5304\n",
      "$$$$$$$$$$$$$$$$$$$$$$$$$$$$$$$$$$$$$$$$\n"
     ]
    }
   ],
   "source": [
    "model = SmallModel()\n",
    "crit = MSECriterion()\n",
    "optimizer = Adam(model.getParameters(), model.getGradParameters() ,lr=0.001)\n",
    "\n",
    "\n",
    "num_epochs = 200\n",
    "batch_size = 64\n",
    "train_loss_list_small = []\n",
    "test_loss_list_small = []\n",
    "for epoch in range(num_epochs+1):\n",
    "    train_loss =  train_loop(model, crit, optimizer, x_train, y_train, batch_size)\n",
    "    test_loss = test_loop(model, crit, x_test, y_test, batch_size)\n",
    "    \n",
    "    train_loss_list_small.append(train_loss)\n",
    "    test_loss_list_small.append(test_loss)\n",
    "    if epoch%20==0:\n",
    "        print(f\"Epoch {epoch}, TRAIN Loss: {train_loss:.4f}\")\n",
    "        print(f'Epoch {epoch}, TEST Loss: {test_loss:.4f}')\n",
    "        print('$'*40)"
   ]
  },
  {
   "cell_type": "code",
   "execution_count": 31,
   "metadata": {},
   "outputs": [
    {
     "data": {
      "image/png": "[encoded data removed]",
      "text/plain": [
       "<Figure size 1000x600 with 1 Axes>"
      ]
     },
     "metadata": {},
     "output_type": "display_data"
    }
   ],
   "source": [
    "import matplotlib.pyplot as plt\n",
    "plt.figure(figsize=(10, 6))\n",
    "plt.plot(train_loss_list_small, label='Train Loss', linewidth=2, color='#552583', marker='o', markersize=4)  # фиолетовый\n",
    "plt.plot(test_loss_list_small, label='Test Loss', linewidth=2, color='#FDB927', marker='s', markersize=4)   # жёлтый\n",
    "\n",
    "plt.title('Кривые обучения для SmallModel (MSE)', fontsize=16, fontweight='bold', color='#552583')\n",
    "plt.xlabel('Epoch', fontsize=13)\n",
    "plt.ylabel('Loss', fontsize=13)\n",
    "\n",
    "plt.legend(fontsize=12, loc='upper right', frameon=True, facecolor='white', edgecolor='gray')\n",
    "plt.grid(True, linestyle='--', linewidth=1, alpha=0.5)\n",
    "plt.tight_layout()\n",
    "plt.show()"
   ]
  },
  {
   "cell_type": "markdown",
   "metadata": {},
   "source": [
    "### MediumModel"
   ]
  },
  {
   "cell_type": "code",
   "execution_count": 32,
   "metadata": {},
   "outputs": [],
   "source": [
    "class MediumModel(Module):\n",
    "    def __init__(self):\n",
    "        super(MediumModel, self).__init__()\n",
    "        self.model = Sequential()\n",
    "    \n",
    "        self.model.add(Linear(30, 36))\n",
    "        self.model.add(BatchNormalization(0.1))\n",
    "        self.model.add(ChannelwiseScaling(36))\n",
    "        self.model.add(Dropout(0.3))\n",
    "        self.model.add(LeakyReLU())\n",
    "        \n",
    "        self.model.add(Linear(36, 100))\n",
    "        self.model.add(Dropout(0.5))\n",
    "        self.model.add(Gelu())\n",
    "        \n",
    "        self.model.add(Linear(100, 36))\n",
    "        self.model.add(BatchNormalization(0.1))\n",
    "        self.model.add(ReLU())\n",
    "        \n",
    "        self.model.add(Linear(36, 3))\n",
    "        \n",
    "        \n",
    "    def forward(self, input):\n",
    "        return self.model.forward(input)\n",
    "        \n",
    "    def backward(self, input, grad):\n",
    "        return self.model.backward(input, grad)\n",
    "        \n",
    "    def zeroGradParameters(self):\n",
    "        self.model.zeroGradParameters()\n",
    "\n",
    "    def getParameters(self):\n",
    "        return self.model.getParameters()\n",
    "\n",
    "    def getGradParameters(self):\n",
    "        return self.model.getGradParameters()\n",
    "\n",
    "    def train(self):\n",
    "        self.model.train()\n",
    "\n",
    "    def eval(self):\n",
    "        self.model.evaluate()\n"
   ]
  },
  {
   "cell_type": "code",
   "execution_count": 33,
   "metadata": {},
   "outputs": [
    {
     "name": "stdout",
     "output_type": "stream",
     "text": [
      "Epoch 0, TRAIN Loss: 109044.6721\n",
      "Epoch 0, TEST Loss: 108798.7693\n",
      "$$$$$$$$$$$$$$$$$$$$$$$$$$$$$$$$$$$$$$$$\n",
      "Epoch 20, TRAIN Loss: 81543.4802\n",
      "Epoch 20, TEST Loss: 79149.4105\n",
      "$$$$$$$$$$$$$$$$$$$$$$$$$$$$$$$$$$$$$$$$\n",
      "Epoch 40, TRAIN Loss: 63296.9538\n",
      "Epoch 40, TEST Loss: 71771.9803\n",
      "$$$$$$$$$$$$$$$$$$$$$$$$$$$$$$$$$$$$$$$$\n",
      "Epoch 60, TRAIN Loss: 49120.2318\n",
      "Epoch 60, TEST Loss: 52296.0601\n",
      "$$$$$$$$$$$$$$$$$$$$$$$$$$$$$$$$$$$$$$$$\n",
      "Epoch 80, TRAIN Loss: 38374.2849\n",
      "Epoch 80, TEST Loss: 27733.5838\n",
      "$$$$$$$$$$$$$$$$$$$$$$$$$$$$$$$$$$$$$$$$\n",
      "Epoch 100, TRAIN Loss: 31164.8945\n",
      "Epoch 100, TEST Loss: 22719.8743\n",
      "$$$$$$$$$$$$$$$$$$$$$$$$$$$$$$$$$$$$$$$$\n",
      "Epoch 120, TRAIN Loss: 26146.5491\n",
      "Epoch 120, TEST Loss: 24244.6011\n",
      "$$$$$$$$$$$$$$$$$$$$$$$$$$$$$$$$$$$$$$$$\n",
      "Epoch 140, TRAIN Loss: 22933.7504\n",
      "Epoch 140, TEST Loss: 19582.4180\n",
      "$$$$$$$$$$$$$$$$$$$$$$$$$$$$$$$$$$$$$$$$\n",
      "Epoch 160, TRAIN Loss: 21012.2746\n",
      "Epoch 160, TEST Loss: 20541.1153\n",
      "$$$$$$$$$$$$$$$$$$$$$$$$$$$$$$$$$$$$$$$$\n",
      "Epoch 180, TRAIN Loss: 19842.3928\n",
      "Epoch 180, TEST Loss: 18268.4075\n",
      "$$$$$$$$$$$$$$$$$$$$$$$$$$$$$$$$$$$$$$$$\n",
      "Epoch 200, TRAIN Loss: 19060.7775\n",
      "Epoch 200, TEST Loss: 17355.2655\n",
      "$$$$$$$$$$$$$$$$$$$$$$$$$$$$$$$$$$$$$$$$\n"
     ]
    }
   ],
   "source": [
    "model = MediumModel()\n",
    "crit = MSECriterion()\n",
    "optimizer = Adam(model.getParameters(),model.getGradParameters() ,lr=0.001)\n",
    "\n",
    "\n",
    "num_epochs = 200\n",
    "batch_size = 64\n",
    "train_loss_list_medium = []\n",
    "test_loss_list_medium = []\n",
    "for epoch in range(num_epochs+1):\n",
    "    train_loss =  train_loop(model, crit, optimizer, x_train, y_train, batch_size)\n",
    "    test_loss = test_loop(model, crit, x_test, y_test, batch_size)\n",
    "    \n",
    "    train_loss_list_medium.append(train_loss)\n",
    "    test_loss_list_medium.append(test_loss)\n",
    "    if epoch%20==0:\n",
    "        print(f\"Epoch {epoch}, TRAIN Loss: {train_loss:.4f}\")\n",
    "        print(f'Epoch {epoch}, TEST Loss: {test_loss:.4f}')\n",
    "        print('$'*40)"
   ]
  },
  {
   "cell_type": "code",
   "execution_count": 34,
   "metadata": {},
   "outputs": [
    {
     "data": {
      "image/png": "[encoded data removed]",
      "text/plain": [
       "<Figure size 1000x600 with 1 Axes>"
      ]
     },
     "metadata": {},
     "output_type": "display_data"
    }
   ],
   "source": [
    "plt.figure(figsize=(10, 6))\n",
    "plt.plot(train_loss_list_medium, label='Train Loss', linewidth=2, color='#552583', marker='o', markersize=4)  # фиолетовый\n",
    "plt.plot(test_loss_list_medium, label='Test Loss', linewidth=2, color='#FDB927', marker='s', markersize=4)   # жёлтый\n",
    "\n",
    "plt.title('Кривые обучения для MediumModel (MSE)', fontsize=16, fontweight='bold', color='#552583')\n",
    "plt.xlabel('Epoch', fontsize=13)\n",
    "plt.ylabel('Loss', fontsize=13)\n",
    "\n",
    "plt.legend(fontsize=12, loc='upper right', frameon=True, facecolor='white', edgecolor='gray')\n",
    "plt.grid(True, linestyle='--', linewidth=1, alpha=0.5)\n",
    "plt.tight_layout()\n",
    "plt.show()"
   ]
  },
  {
   "cell_type": "markdown",
   "metadata": {},
   "source": [
    "### LargeModel"
   ]
  },
  {
   "cell_type": "code",
   "execution_count": 35,
   "metadata": {},
   "outputs": [],
   "source": [
    "class LargeModel(Module):\n",
    "    def __init__(self):\n",
    "        super(LargeModel, self).__init__()\n",
    "        self.model = Sequential()\n",
    "    \n",
    "        self.model.add(Linear(30, 36))\n",
    "        self.model.add(BatchNormalization(0.1))\n",
    "        self.model.add(ChannelwiseScaling(36))\n",
    "        self.model.add(LeakyReLU())\n",
    "        \n",
    "        self.model.add(Linear(36, 100))\n",
    "        self.model.add(Gelu())\n",
    "\n",
    "        self.model.add(Linear(100, 300))\n",
    "        self.model.add(ELU())\n",
    "\n",
    "        self.model.add(Linear(300, 100))\n",
    "        self.model.add(Dropout(0.5))\n",
    "        self.model.add(LeakyReLU())\n",
    "        \n",
    "        self.model.add(Linear(100, 36))\n",
    "        self.model.add(Dropout(0.3))\n",
    "        self.model.add(ReLU())\n",
    "        \n",
    "        self.model.add(Linear(36, 3))\n",
    "        \n",
    "        \n",
    "    def forward(self, input):\n",
    "        return self.model.forward(input)\n",
    "        \n",
    "    def backward(self, input, grad):\n",
    "        return self.model.backward(input, grad)\n",
    "        \n",
    "    def zeroGradParameters(self):\n",
    "        self.model.zeroGradParameters()\n",
    "\n",
    "    def getParameters(self):\n",
    "        return self.model.getParameters()\n",
    "\n",
    "    def getGradParameters(self):\n",
    "        return self.model.getGradParameters()\n",
    "\n",
    "    def train(self):\n",
    "        self.model.train()\n",
    "\n",
    "    def eval(self):\n",
    "        self.model.evaluate()\n"
   ]
  },
  {
   "cell_type": "code",
   "execution_count": 36,
   "metadata": {},
   "outputs": [
    {
     "name": "stdout",
     "output_type": "stream",
     "text": [
      "Epoch 0, TRAIN Loss: 108050.9710\n",
      "Epoch 0, TEST Loss: 99724.5019\n",
      "$$$$$$$$$$$$$$$$$$$$$$$$$$$$$$$$$$$$$$$$\n",
      "Epoch 20, TRAIN Loss: 22135.6912\n",
      "Epoch 20, TEST Loss: 15234.2047\n",
      "$$$$$$$$$$$$$$$$$$$$$$$$$$$$$$$$$$$$$$$$\n",
      "Epoch 40, TRAIN Loss: 21630.2004\n",
      "Epoch 40, TEST Loss: 14910.1423\n",
      "$$$$$$$$$$$$$$$$$$$$$$$$$$$$$$$$$$$$$$$$\n",
      "Epoch 60, TRAIN Loss: 21284.0653\n",
      "Epoch 60, TEST Loss: 17104.4776\n",
      "$$$$$$$$$$$$$$$$$$$$$$$$$$$$$$$$$$$$$$$$\n",
      "Epoch 80, TRAIN Loss: 20474.4064\n",
      "Epoch 80, TEST Loss: 15143.9259\n",
      "$$$$$$$$$$$$$$$$$$$$$$$$$$$$$$$$$$$$$$$$\n",
      "Epoch 100, TRAIN Loss: 20723.8378\n",
      "Epoch 100, TEST Loss: 19776.0803\n",
      "$$$$$$$$$$$$$$$$$$$$$$$$$$$$$$$$$$$$$$$$\n",
      "Epoch 120, TRAIN Loss: 20520.9253\n",
      "Epoch 120, TEST Loss: 15019.3273\n",
      "$$$$$$$$$$$$$$$$$$$$$$$$$$$$$$$$$$$$$$$$\n",
      "Epoch 140, TRAIN Loss: 20588.1828\n",
      "Epoch 140, TEST Loss: 22371.9901\n",
      "$$$$$$$$$$$$$$$$$$$$$$$$$$$$$$$$$$$$$$$$\n",
      "Epoch 160, TRAIN Loss: 20554.3079\n",
      "Epoch 160, TEST Loss: 15158.5291\n",
      "$$$$$$$$$$$$$$$$$$$$$$$$$$$$$$$$$$$$$$$$\n",
      "Epoch 180, TRAIN Loss: 20535.5929\n",
      "Epoch 180, TEST Loss: 16435.1460\n",
      "$$$$$$$$$$$$$$$$$$$$$$$$$$$$$$$$$$$$$$$$\n",
      "Epoch 200, TRAIN Loss: 20482.2812\n",
      "Epoch 200, TEST Loss: 15561.3780\n",
      "$$$$$$$$$$$$$$$$$$$$$$$$$$$$$$$$$$$$$$$$\n"
     ]
    }
   ],
   "source": [
    "model = LargeModel()\n",
    "crit = MSECriterion()\n",
    "optimizer = Adam(model.getParameters(),model.getGradParameters() ,lr=0.001)\n",
    "\n",
    "\n",
    "num_epochs = 200\n",
    "batch_size = 64\n",
    "train_loss_list_large = []\n",
    "test_loss_list_large = []\n",
    "for epoch in range(num_epochs+1):\n",
    "    train_loss =  train_loop(model, crit, optimizer, x_train, y_train, batch_size)\n",
    "    test_loss = test_loop(model, crit, x_test, y_test, batch_size)\n",
    "    \n",
    "    train_loss_list_large.append(train_loss)\n",
    "    test_loss_list_large.append(test_loss)\n",
    "    if epoch%20==0:\n",
    "        print(f\"Epoch {epoch}, TRAIN Loss: {train_loss:.4f}\")\n",
    "        print(f'Epoch {epoch}, TEST Loss: {test_loss:.4f}')\n",
    "        print('$'*40)"
   ]
  },
  {
   "cell_type": "code",
   "execution_count": 37,
   "metadata": {},
   "outputs": [
    {
     "data": {
      "image/png": "[encoded data removed]",
      "text/plain": [
       "<Figure size 1000x600 with 1 Axes>"
      ]
     },
     "metadata": {},
     "output_type": "display_data"
    }
   ],
   "source": [
    "plt.figure(figsize=(10, 6))\n",
    "plt.plot(train_loss_list_large, label='Train Loss', linewidth=2, color='#552583', marker='o', markersize=4)  # фиолетовый\n",
    "plt.plot(test_loss_list_large, label='Test Loss', linewidth=2, color='#FDB927', marker='s', markersize=4)   # жёлтый\n",
    "\n",
    "plt.title('Кривые обучения для MediumModel (MSE)', fontsize=16, fontweight='bold', color='#552583')\n",
    "plt.xlabel('Epoch', fontsize=13)\n",
    "plt.ylabel('Loss', fontsize=13)\n",
    "\n",
    "plt.legend(fontsize=12, loc='upper right', frameon=True, facecolor='white', edgecolor='gray')\n",
    "plt.grid(True, linestyle='--', linewidth=1, alpha=0.5)\n",
    "plt.tight_layout()\n",
    "plt.show()"
   ]
  },
  {
   "cell_type": "markdown",
   "metadata": {},
   "source": [
    "### MNIST"
   ]
  },
  {
   "cell_type": "code",
   "execution_count": 57,
   "metadata": {},
   "outputs": [],
   "source": [
    "class NLLCriterion(Criterion):\n",
    "    def __init__(self):\n",
    "        super(NLLCriterion, self).__init__()\n",
    "\n",
    "    def updateOutput(self, input, target):\n",
    "        input = np.array(input)\n",
    "        target = np.array(target).astype(np.int64)  # важно!\n",
    "        \n",
    "        if target.ndim == 0:\n",
    "            input = input.reshape(1, -1)\n",
    "            target = target.reshape(1)\n",
    "        \n",
    "        self.output = -np.mean(input[np.arange(len(target)), target])\n",
    "        return self.output\n",
    "\n",
    "    def updateGradInput(self, input, target):\n",
    "        input = np.array(input)\n",
    "        target = np.array(target).astype(np.int64)\n",
    "\n",
    "        if target.ndim == 0:\n",
    "            input = input.reshape(1, -1)\n",
    "            target = target.reshape(1)\n",
    "\n",
    "        B, C = input.shape\n",
    "        self.gradInput = np.zeros_like(input)\n",
    "        self.gradInput[np.arange(B), target] = -1 / B\n",
    "        return self.gradInput\n",
    "\n",
    "    def __repr__(self):\n",
    "        return \"NLLCriterion\"\n"
   ]
  },
  {
   "cell_type": "code",
   "execution_count": 58,
   "metadata": {},
   "outputs": [],
   "source": [
    "import torch\n",
    "from torchvision import datasets, transforms\n",
    "from sklearn.metrics import accuracy_score\n",
    "\n",
    "\n",
    "transform = transforms.Compose([\n",
    "    transforms.ToTensor(),\n",
    "])\n",
    "\n",
    "train_dataset = datasets.MNIST(root='./data', train=True, download=True, transform=transform)\n",
    "test_dataset = datasets.MNIST(root='./data', train=False, download=True, transform=transform)"
   ]
  },
  {
   "cell_type": "code",
   "execution_count": 59,
   "metadata": {},
   "outputs": [],
   "source": [
    "from torch.utils.data import Subset\n",
    "\n",
    "#запускаю 2% от датасета, а то комп собирается умирать\n",
    "subset_size = int(len(train_dataset) * 0.02)\n",
    "\n",
    "indices = torch.randperm(len(train_dataset))[:subset_size]\n",
    "\n",
    "train_dataset = Subset(train_dataset, indices)\n",
    "\n",
    "test_subset_size = 1000\n",
    "test_indices = torch.randperm(len(test_dataset))[:test_subset_size]\n",
    "test_dataset = Subset(test_dataset, test_indices)"
   ]
  },
  {
   "cell_type": "code",
   "execution_count": 60,
   "metadata": {},
   "outputs": [],
   "source": [
    "class NumpyDataLoader:\n",
    "    def __init__(self, dataset, batch_size=32, shuffle=True):\n",
    "        self.dataset = dataset\n",
    "        self.batch_size = batch_size\n",
    "        self.shuffle = shuffle\n",
    "        self.num_samples = len(dataset)\n",
    "\n",
    "    def __iter__(self):\n",
    "        self.idx = 0\n",
    "        if self.shuffle:\n",
    "            self.permutation = np.random.permutation(self.num_samples)\n",
    "        else:\n",
    "            self.permutation = np.arange(self.num_samples)\n",
    "        return self\n",
    "\n",
    "    def __next__(self):\n",
    "        if self.idx >= self.num_samples:\n",
    "            raise StopIteration\n",
    "        start = self.idx\n",
    "        end = min(start + self.batch_size, self.num_samples)\n",
    "        batch_idx = self.permutation[start:end]\n",
    "        self.idx = end\n",
    "\n",
    "        batch_x, batch_y = zip(*[self.dataset[i] for i in batch_idx])\n",
    "        batch_x = torch.stack(batch_x).numpy()  \n",
    "        batch_y = torch.tensor(batch_y).numpy() \n",
    "\n",
    "        return batch_x, batch_y"
   ]
  },
  {
   "cell_type": "code",
   "execution_count": 61,
   "metadata": {},
   "outputs": [],
   "source": [
    "from tqdm import tqdm"
   ]
  },
  {
   "cell_type": "code",
   "execution_count": 62,
   "metadata": {},
   "outputs": [],
   "source": [
    "def train_loop(model, crit, optimizer, dl):\n",
    "    model.train()\n",
    "    batch_loss = []\n",
    "   \n",
    "    for x_batch, y_batch in tqdm(dl):\n",
    "        yp = model.forward(x_batch)\n",
    "\n",
    "        loss = crit.forward(yp, y_batch)\n",
    "        grad = crit.backward(yp, y_batch)\n",
    "        model.backward(x_batch, grad)\n",
    "\n",
    "\n",
    "        \n",
    "        optimizer.step()\n",
    "        model.zeroGradParameters()\n",
    "        \n",
    "        batch_loss.append(loss)\n",
    "\n",
    "    return np.mean(batch_loss)\n"
   ]
  },
  {
   "cell_type": "code",
   "execution_count": 63,
   "metadata": {},
   "outputs": [],
   "source": [
    "def test_loop(model, crit, dl):\n",
    "    model.eval()\n",
    "    batch_loss = []\n",
    "\n",
    "    for x_batch, y_batch in dl:\n",
    "        yp = model.forward(x_batch)\n",
    "\n",
    "        loss = crit.forward(yp, y_batch)\n",
    "    \n",
    "        batch_loss.append(loss)\n",
    "        \n",
    "    return np.mean(batch_loss)"
   ]
  },
  {
   "cell_type": "code",
   "execution_count": 64,
   "metadata": {},
   "outputs": [],
   "source": [
    "class CNN(Module):\n",
    "    def __init__(self):\n",
    "        super(CNN, self).__init__()\n",
    "        self.model = Sequential()\n",
    "        self.model.add(Conv2d(1, 8, 3))\n",
    "        self.model.add(LeakyReLU())\n",
    "        self.model.add(MaxPool2d(3,1, 1))\n",
    "        self.model.add(Conv2d(8, 6, 3))\n",
    "        self.model.add(AvgPool2d(2,2, 1))\n",
    "        self.model.add(Flatten())\n",
    "        self.model.add(Linear(1014, 128))\n",
    "        self.model.add(Gelu())\n",
    "        self.model.add(Linear(128, 10))\n",
    "        self.model.add(LogSoftMax())\n",
    "\n",
    "        \n",
    "    def forward(self, input):\n",
    "        return self.model.forward(input)\n",
    "        \n",
    "    def backward(self, input, grad):\n",
    "        return self.model.backward(input, grad)\n",
    "        \n",
    "    def zeroGradParameters(self):\n",
    "        self.model.zeroGradParameters()\n",
    "\n",
    "    def getParameters(self):\n",
    "        return self.model.getParameters()\n",
    "\n",
    "    def getGradParameters(self):\n",
    "        return self.model.getGradParameters()\n",
    "\n",
    "    def train(self):\n",
    "        self.model.train()\n",
    "\n",
    "    def eval(self):\n",
    "        self.model.evaluate()\n"
   ]
  },
  {
   "cell_type": "code",
   "execution_count": 66,
   "metadata": {},
   "outputs": [
    {
     "name": "stderr",
     "output_type": "stream",
     "text": [
      "75it [03:41,  2.95s/it]\n"
     ]
    },
    {
     "name": "stdout",
     "output_type": "stream",
     "text": [
      "$$$$$$$$$$$$$$$$$$$$$$$$$$$$$$$$$$$$$$$$\n",
      "Epoch 0, TRAIN Loss: 0.8401\n",
      "Epoch 0, TEST Loss: 0.3578\n"
     ]
    },
    {
     "name": "stderr",
     "output_type": "stream",
     "text": [
      "75it [03:41,  2.95s/it]\n"
     ]
    },
    {
     "name": "stdout",
     "output_type": "stream",
     "text": [
      "$$$$$$$$$$$$$$$$$$$$$$$$$$$$$$$$$$$$$$$$\n",
      "Epoch 1, TRAIN Loss: 0.2858\n",
      "Epoch 1, TEST Loss: 0.2963\n"
     ]
    },
    {
     "name": "stderr",
     "output_type": "stream",
     "text": [
      "75it [03:41,  2.95s/it]\n"
     ]
    },
    {
     "name": "stdout",
     "output_type": "stream",
     "text": [
      "$$$$$$$$$$$$$$$$$$$$$$$$$$$$$$$$$$$$$$$$\n",
      "Epoch 2, TRAIN Loss: 0.2169\n",
      "Epoch 2, TEST Loss: 0.2547\n"
     ]
    },
    {
     "name": "stderr",
     "output_type": "stream",
     "text": [
      "75it [03:41,  2.95s/it]\n"
     ]
    },
    {
     "name": "stdout",
     "output_type": "stream",
     "text": [
      "$$$$$$$$$$$$$$$$$$$$$$$$$$$$$$$$$$$$$$$$\n",
      "Epoch 3, TRAIN Loss: 0.1230\n",
      "Epoch 3, TEST Loss: 0.2838\n"
     ]
    },
    {
     "name": "stderr",
     "output_type": "stream",
     "text": [
      "75it [03:41,  2.95s/it]\n"
     ]
    },
    {
     "name": "stdout",
     "output_type": "stream",
     "text": [
      "$$$$$$$$$$$$$$$$$$$$$$$$$$$$$$$$$$$$$$$$\n",
      "Epoch 4, TRAIN Loss: 0.1143\n",
      "Epoch 4, TEST Loss: 0.2437\n"
     ]
    },
    {
     "name": "stderr",
     "output_type": "stream",
     "text": [
      "75it [03:41,  2.95s/it]\n"
     ]
    },
    {
     "name": "stdout",
     "output_type": "stream",
     "text": [
      "$$$$$$$$$$$$$$$$$$$$$$$$$$$$$$$$$$$$$$$$\n",
      "Epoch 5, TRAIN Loss: 0.0723\n",
      "Epoch 5, TEST Loss: 0.1893\n"
     ]
    },
    {
     "name": "stderr",
     "output_type": "stream",
     "text": [
      "75it [03:41,  2.95s/it]\n"
     ]
    },
    {
     "name": "stdout",
     "output_type": "stream",
     "text": [
      "$$$$$$$$$$$$$$$$$$$$$$$$$$$$$$$$$$$$$$$$\n",
      "Epoch 6, TRAIN Loss: 0.0668\n",
      "Epoch 6, TEST Loss: 0.2944\n"
     ]
    },
    {
     "name": "stderr",
     "output_type": "stream",
     "text": [
      "75it [03:40,  2.95s/it]\n"
     ]
    },
    {
     "name": "stdout",
     "output_type": "stream",
     "text": [
      "$$$$$$$$$$$$$$$$$$$$$$$$$$$$$$$$$$$$$$$$\n",
      "Epoch 7, TRAIN Loss: 0.0581\n",
      "Epoch 7, TEST Loss: 0.1923\n"
     ]
    },
    {
     "name": "stderr",
     "output_type": "stream",
     "text": [
      "75it [03:41,  2.95s/it]\n"
     ]
    },
    {
     "name": "stdout",
     "output_type": "stream",
     "text": [
      "$$$$$$$$$$$$$$$$$$$$$$$$$$$$$$$$$$$$$$$$\n",
      "Epoch 8, TRAIN Loss: 0.0332\n",
      "Epoch 8, TEST Loss: 0.2244\n"
     ]
    },
    {
     "name": "stderr",
     "output_type": "stream",
     "text": [
      "75it [03:41,  2.95s/it]\n"
     ]
    },
    {
     "name": "stdout",
     "output_type": "stream",
     "text": [
      "$$$$$$$$$$$$$$$$$$$$$$$$$$$$$$$$$$$$$$$$\n",
      "Epoch 9, TRAIN Loss: 0.0408\n",
      "Epoch 9, TEST Loss: 0.3006\n"
     ]
    },
    {
     "name": "stderr",
     "output_type": "stream",
     "text": [
      "75it [03:40,  2.95s/it]\n"
     ]
    },
    {
     "name": "stdout",
     "output_type": "stream",
     "text": [
      "$$$$$$$$$$$$$$$$$$$$$$$$$$$$$$$$$$$$$$$$\n",
      "Epoch 10, TRAIN Loss: 0.0308\n",
      "Epoch 10, TEST Loss: 0.2249\n"
     ]
    }
   ],
   "source": [
    "model = CNN()\n",
    "crit = NLLCriterion()\n",
    "optimizer = Adam(model.getParameters(),model.getGradParameters(), lr=0.001)\n",
    "traindl = NumpyDataLoader(train_dataset, batch_size=16, shuffle=True)\n",
    "testdl = NumpyDataLoader(test_dataset, batch_size=16, shuffle=True)\n",
    "\n",
    "num_epochs = 10\n",
    "train_loss_list_mnist = []\n",
    "test_loss_list_mnist = []\n",
    "\n",
    "\n",
    "for epoch in range(num_epochs+1):\n",
    "    train_loss =  train_loop(model, crit, optimizer, traindl)\n",
    "    test_loss = test_loop(model, crit, testdl)\n",
    "    \n",
    "    train_loss_list_mnist.append(train_loss)\n",
    "    test_loss_list_mnist.append(test_loss)\n",
    "    \n",
    "    if epoch%1==0:\n",
    "        print('$'*40)\n",
    "        print(f\"Epoch {epoch}, TRAIN Loss: {train_loss:.4f}\")\n",
    "        print(f'Epoch {epoch}, TEST Loss: {test_loss:.4f}')"
   ]
  },
  {
   "cell_type": "code",
   "execution_count": 67,
   "metadata": {},
   "outputs": [
    {
     "data": {
      "image/png": "[encoded data removed]",
      "text/plain": [
       "<Figure size 1000x600 with 1 Axes>"
      ]
     },
     "metadata": {},
     "output_type": "display_data"
    }
   ],
   "source": [
    "plt.figure(figsize=(10, 6))\n",
    "plt.plot(train_loss_list_mnist, label='Train Loss', linewidth=2, color='#552583', marker='o', markersize=4)  \n",
    "plt.plot(test_loss_list_mnist, label='Test Loss', linewidth=2, color='#FDB927', marker='s', markersize=4)   \n",
    "\n",
    "plt.title('Кривые обучения для DS MNIST (MSE)', fontsize=16, fontweight='bold', color='#552583')\n",
    "plt.xlabel('Epoch', fontsize=13)\n",
    "plt.ylabel('Loss', fontsize=13)\n",
    "\n",
    "plt.legend(fontsize=12, loc='upper right', frameon=True, facecolor='white', edgecolor='gray')\n",
    "plt.grid(True, linestyle='--', linewidth=1, alpha=0.5)\n",
    "plt.tight_layout()\n",
    "plt.show()"
   ]
  },
  {
   "cell_type": "markdown",
   "metadata": {},
   "source": [
    "## Autoencoder"
   ]
  },
  {
   "cell_type": "code",
   "execution_count": 47,
   "metadata": {},
   "outputs": [],
   "source": [
    "import torch\n",
    "from torchvision import datasets, transforms\n",
    "from sklearn.metrics import accuracy_score\n",
    "\n",
    "\n",
    "transform = transforms.Compose([\n",
    "    transforms.ToTensor(),\n",
    "])\n",
    "\n",
    "train_dataset = datasets.MNIST(root='./data', train=True, download=True, transform=transform)\n",
    "test_dataset = datasets.MNIST(root='./data', train=False, download=True, transform=transform)\n",
    "\n",
    "\n",
    "from torch.utils.data import Subset\n",
    "\n",
    "subset_size = int(len(train_dataset) * 0.02)\n",
    "\n",
    "indices = torch.randperm(len(train_dataset))[:subset_size]\n",
    "\n",
    "train_dataset = Subset(train_dataset, indices)\n",
    "\n",
    "test_subset_size = 220\n",
    "test_indices = torch.randperm(len(test_dataset))[:test_subset_size]\n",
    "test_dataset = Subset(test_dataset, test_indices)"
   ]
  },
  {
   "cell_type": "code",
   "execution_count": 48,
   "metadata": {},
   "outputs": [],
   "source": [
    "class Upsample2d(Module):\n",
    "    def __init__(self, scale=2):\n",
    "        super(Upsample2d, self).__init__()\n",
    "        self.scale = scale\n",
    "\n",
    "    def updateOutput(self, input):\n",
    "        self.input_shape = input.shape\n",
    "        out = np.repeat(input, self.scale, axis=2)  \n",
    "        out = np.repeat(out, self.scale, axis=3)    \n",
    "        self.output = out\n",
    "        return self.output\n",
    "\n",
    "    def updateGradInput(self, input, gradOutput):\n",
    "        B, C, H, W = self.input_shape\n",
    "        scale = self.scale\n",
    "        grad = gradOutput.reshape(B, C, H, scale, W, scale)\n",
    "        self.gradInput = grad.mean(axis=(3, 5)) \n",
    "        return self.gradInput\n",
    "\n",
    "    def getParameters(self):\n",
    "        return []\n",
    "    def getGradParameters(self):\n",
    "        return []\n",
    "    def zeroGradParameters(self):\n",
    "        pass\n",
    "    def train(self):\n",
    "        pass\n",
    "    def evaluate(self):\n",
    "        pass\n",
    "\n",
    "    def __repr__(self):\n",
    "        return f\"Upsample2d\""
   ]
  },
  {
   "cell_type": "code",
   "execution_count": 49,
   "metadata": {},
   "outputs": [],
   "source": [
    "class Sigmoid(Module):\n",
    "    def __init__(self):\n",
    "        super(Sigmoid, self).__init__()\n",
    "\n",
    "    def updateOutput(self, input):\n",
    "        self.output = 1 / (1 + np.exp(-input))\n",
    "        return self.output\n",
    "\n",
    "    def updateGradInput(self, input, gradOutput):\n",
    "        sigmoid = self.output \n",
    "        self.gradInput = gradOutput * sigmoid * (1 - sigmoid)\n",
    "        return self.gradInput\n",
    "\n",
    "    def getParameters(self):\n",
    "        return []\n",
    "    def getGradParameters(self):\n",
    "        return []\n",
    "    def zeroGradParameters(self):\n",
    "        pass\n",
    "    def train(self):\n",
    "        pass\n",
    "    def evaluate(self):\n",
    "        pass\n",
    "\n",
    "    def __repr__(self):\n",
    "        return \"Sigmoid\""
   ]
  },
  {
   "cell_type": "code",
   "execution_count": 50,
   "metadata": {},
   "outputs": [],
   "source": [
    "class Reshape(Module):\n",
    "    def __init__(self, shape):\n",
    "        super(Reshape, self).__init__()\n",
    "        self.target_shape = shape\n",
    "\n",
    "    def updateOutput(self, input):\n",
    "        self.input_shape = input.shape\n",
    "        \n",
    "        shape = tuple(self.target_shape)\n",
    "        shape = (input.shape[0],) + shape[1:] if shape[0] == -1 else shape\n",
    "        self.output = input.reshape(shape)\n",
    "        return self.output\n",
    "\n",
    "    def updateGradInput(self, input, gradOutput):\n",
    "        self.gradInput = gradOutput.reshape(self.input_shape)\n",
    "        return self.gradInput\n",
    "\n",
    "    def getParameters(self):\n",
    "        return []\n",
    "    def getGradParameters(self):\n",
    "        return []\n",
    "    def zeroGradParameters(self):\n",
    "        pass\n",
    "    def train(self):\n",
    "        pass\n",
    "    def evaluate(self):\n",
    "        pass\n",
    "\n",
    "    def __repr__(self):\n",
    "        return f\"Reshape\""
   ]
  },
  {
   "cell_type": "code",
   "execution_count": 51,
   "metadata": {},
   "outputs": [],
   "source": [
    "class Autoencoder(Module):\n",
    "    def __init__(self):\n",
    "        super(Autoencoder, self).__init__()\n",
    "        self.model = Sequential() \n",
    "\n",
    "        # --- ENCODER ---\n",
    "        self.model.add(Conv2d(1, 16, 3, padding=1))         \n",
    "        self.model.add(LeakyReLU())\n",
    "        self.model.add(MaxPool2d(2, 2,  padding=0))                     \n",
    "        self.model.add(Dropout(0.2))\n",
    "\n",
    "        self.model.add(Conv2d(16, 32, 3, padding=1))      \n",
    "        self.model.add(LeakyReLU())\n",
    "        self.model.add(AvgPool2d(2, 2, padding=0))                    \n",
    "        self.model.add(Dropout(0.2))\n",
    "\n",
    "        # --- BOTTLENECK ---\n",
    "        self.model.add(Flatten())                        \n",
    "        self.model.add(Linear(1568, 128))\n",
    "        self.model.add(BatchNormalization(0.1))\n",
    "        self.model.add(ChannelwiseScaling(128))\n",
    "        self.model.add(Gelu())\n",
    "        self.model.add(Linear(128, 1568))\n",
    "        self.model.add(Gelu())\n",
    "\n",
    "        # --- DECODER ---\n",
    "        self.model.add(Reshape((-1, 32, 7, 7)))            \n",
    "        self.model.add(Upsample2d(scale=2))                \n",
    "        self.model.add(Conv2d(32, 16, 3, padding=1))        \n",
    "        self.model.add(LeakyReLU())\n",
    "        self.model.add(Upsample2d(scale=2))                \n",
    "        self.model.add(Conv2d(16, 1, 3, padding=1))\n",
    "\n",
    "        \n",
    "        self.model.add(Sigmoid())                          \n",
    "\n",
    "    def forward(self, input):\n",
    "        return self.model.forward(input)\n",
    "\n",
    "    def backward(self, input, grad):\n",
    "        return self.model.backward(input, grad)\n",
    "\n",
    "    def zeroGradParameters(self):\n",
    "        self.model.zeroGradParameters()\n",
    "\n",
    "    def getParameters(self):\n",
    "        return self.model.getParameters()\n",
    "\n",
    "    def getGradParameters(self):\n",
    "        return self.model.getGradParameters()\n",
    "\n",
    "    def train(self):\n",
    "        self.model.train()\n",
    "\n",
    "    def eval(self):\n",
    "        self.model.evaluate()"
   ]
  },
  {
   "cell_type": "code",
   "execution_count": 52,
   "metadata": {},
   "outputs": [],
   "source": [
    "def train_loop(model, crit, optimizer, dl):\n",
    "    model.train()\n",
    "    batch_loss = []\n",
    "   \n",
    "    for x_batch, y_batch in tqdm(dl):\n",
    "        yp = model.forward(x_batch)\n",
    "\n",
    "        loss = crit.forward(yp, x_batch)\n",
    "        grad = crit.backward(yp, x_batch)\n",
    "        \n",
    "        model.backward(x_batch, grad)\n",
    "\n",
    "\n",
    "        \n",
    "        optimizer.step()\n",
    "        model.zeroGradParameters()\n",
    "        \n",
    "        batch_loss.append(loss)\n",
    "\n",
    "    return np.mean(batch_loss)\n"
   ]
  },
  {
   "cell_type": "code",
   "execution_count": 53,
   "metadata": {},
   "outputs": [],
   "source": [
    "def test_loop(model, crit, dl):\n",
    "    model.eval()\n",
    "    batch_loss = []\n",
    "\n",
    "    for x_batch, y_batch in dl:\n",
    "        yp = model.forward(x_batch)\n",
    "\n",
    "        \n",
    "        loss = crit.forward(yp, x_batch)\n",
    "        \n",
    "    \n",
    "        batch_loss.append(loss)\n",
    "        \n",
    "    return np.mean(batch_loss)"
   ]
  },
  {
   "cell_type": "code",
   "execution_count": 54,
   "metadata": {},
   "outputs": [
    {
     "name": "stderr",
     "output_type": "stream",
     "text": [
      "75it [08:24,  6.73s/it]\n"
     ]
    },
    {
     "name": "stdout",
     "output_type": "stream",
     "text": [
      "$$$$$$$$$$$$$$$$$$$$$$$$$$$$$$$$$$$$$$$$\n",
      "Epoch 0, TRAIN Loss: 334.5252\n",
      "Epoch 0, TEST Loss: 79.7585\n"
     ]
    },
    {
     "name": "stderr",
     "output_type": "stream",
     "text": [
      "75it [08:21,  6.69s/it]\n"
     ]
    },
    {
     "name": "stdout",
     "output_type": "stream",
     "text": [
      "$$$$$$$$$$$$$$$$$$$$$$$$$$$$$$$$$$$$$$$$\n",
      "Epoch 1, TRAIN Loss: 56.7780\n",
      "Epoch 1, TEST Loss: 41.4166\n"
     ]
    },
    {
     "name": "stderr",
     "output_type": "stream",
     "text": [
      "75it [08:21,  6.69s/it]\n"
     ]
    },
    {
     "name": "stdout",
     "output_type": "stream",
     "text": [
      "$$$$$$$$$$$$$$$$$$$$$$$$$$$$$$$$$$$$$$$$\n",
      "Epoch 2, TRAIN Loss: 39.0301\n",
      "Epoch 2, TEST Loss: 30.4843\n"
     ]
    },
    {
     "name": "stderr",
     "output_type": "stream",
     "text": [
      "75it [08:21,  6.69s/it]\n"
     ]
    },
    {
     "name": "stdout",
     "output_type": "stream",
     "text": [
      "$$$$$$$$$$$$$$$$$$$$$$$$$$$$$$$$$$$$$$$$\n",
      "Epoch 3, TRAIN Loss: 32.0454\n",
      "Epoch 3, TEST Loss: 29.6045\n"
     ]
    },
    {
     "name": "stderr",
     "output_type": "stream",
     "text": [
      "75it [08:22,  6.69s/it]\n"
     ]
    },
    {
     "name": "stdout",
     "output_type": "stream",
     "text": [
      "$$$$$$$$$$$$$$$$$$$$$$$$$$$$$$$$$$$$$$$$\n",
      "Epoch 4, TRAIN Loss: 28.7968\n",
      "Epoch 4, TEST Loss: 22.9852\n"
     ]
    },
    {
     "name": "stderr",
     "output_type": "stream",
     "text": [
      "75it [08:22,  6.69s/it]\n"
     ]
    },
    {
     "name": "stdout",
     "output_type": "stream",
     "text": [
      "$$$$$$$$$$$$$$$$$$$$$$$$$$$$$$$$$$$$$$$$\n",
      "Epoch 5, TRAIN Loss: 26.5953\n",
      "Epoch 5, TEST Loss: 20.0492\n"
     ]
    }
   ],
   "source": [
    "model = Autoencoder()\n",
    "crit = MSECriterion()\n",
    "\n",
    "optimizer = Adam(model.getParameters(),model.getGradParameters(), lr=0.001)\n",
    "traindl = NumpyDataLoader(train_dataset, batch_size=16, shuffle=True)\n",
    "testdl = NumpyDataLoader(test_dataset, batch_size=16, shuffle=True)\n",
    "\n",
    "num_epochs = 5\n",
    "train_loss_list = []\n",
    "test_loss_list = []\n",
    "\n",
    "\n",
    "for epoch in range(num_epochs+1):\n",
    "    train_loss =  train_loop(model, crit, optimizer, traindl)\n",
    "    test_loss = test_loop(model, crit, testdl)\n",
    "    \n",
    "    train_loss_list.append(train_loss)\n",
    "    test_loss_list.append(test_loss)\n",
    "    \n",
    "    if epoch%1==0:\n",
    "        print('$'*40)\n",
    "        print(f\"Epoch {epoch}, TRAIN Loss: {train_loss:.4f}\")\n",
    "        print(f'Epoch {epoch}, TEST Loss: {test_loss:.4f}')"
   ]
  },
  {
   "cell_type": "code",
   "execution_count": 55,
   "metadata": {},
   "outputs": [
    {
     "data": {
      "image/png": "[encoded data removed]",
      "text/plain": [
       "<Figure size 1000x600 with 1 Axes>"
      ]
     },
     "metadata": {},
     "output_type": "display_data"
    }
   ],
   "source": [
    "plt.figure(figsize=(10, 6))\n",
    "plt.plot(train_loss_list, label='Train Loss', linewidth=2, color='#552583', marker='o', markersize=4)  \n",
    "plt.plot(test_loss_list, label='Test Loss', linewidth=2, color='#FDB927', marker='s', markersize=4)   \n",
    "\n",
    "plt.title('Кривые обучения для Autoencoder (MSE)', fontsize=16, fontweight='bold', color='#552583')\n",
    "plt.xlabel('Epoch', fontsize=13)\n",
    "plt.ylabel('Loss', fontsize=13)\n",
    "\n",
    "plt.legend(fontsize=12, loc='upper right', frameon=True, facecolor='white', edgecolor='gray')\n",
    "plt.grid(True, linestyle='--', linewidth=1, alpha=0.5)\n",
    "plt.tight_layout()\n",
    "plt.show()"
   ]
  }
 ],
 "metadata": {
  "colab": {
   "provenance": []
  },
  "kernelspec": {
   "display_name": "Python 3 (ipykernel)",
   "language": "python",
   "name": "python3"
  },
  "language_info": {
   "codemirror_mode": {
    "name": "ipython",
    "version": 3
   },
   "file_extension": ".py",
   "mimetype": "text/x-python",
   "name": "python",
   "nbconvert_exporter": "python",
   "pygments_lexer": "ipython3",
   "version": "3.11.7"
  }
 },
 "nbformat": 4,
 "nbformat_minor": 4
}
